{
 "cells": [
  {
   "cell_type": "markdown",
   "metadata": {},
   "source": [
    "### In class Assigment 2 ###"
   ]
  },
  {
   "cell_type": "code",
   "execution_count": 4,
   "metadata": {},
   "outputs": [],
   "source": [
    "import pandas as pd\n",
    "\n",
    "df = pd.read_csv('/Users/julioberrocal/Desktop/Classes/Winter 2024/Advanced Programming/OIM7502_SP24/data/Wage.csv')"
   ]
  },
  {
   "cell_type": "code",
   "execution_count": 5,
   "metadata": {},
   "outputs": [
    {
     "data": {
      "text/html": [
       "<div>\n",
       "<style scoped>\n",
       "    .dataframe tbody tr th:only-of-type {\n",
       "        vertical-align: middle;\n",
       "    }\n",
       "\n",
       "    .dataframe tbody tr th {\n",
       "        vertical-align: top;\n",
       "    }\n",
       "\n",
       "    .dataframe thead th {\n",
       "        text-align: right;\n",
       "    }\n",
       "</style>\n",
       "<table border=\"1\" class=\"dataframe\">\n",
       "  <thead>\n",
       "    <tr style=\"text-align: right;\">\n",
       "      <th></th>\n",
       "      <th>year</th>\n",
       "      <th>age</th>\n",
       "      <th>maritl</th>\n",
       "      <th>race</th>\n",
       "      <th>education</th>\n",
       "      <th>region</th>\n",
       "      <th>jobclass</th>\n",
       "      <th>health</th>\n",
       "      <th>health_ins</th>\n",
       "      <th>logwage</th>\n",
       "      <th>wage</th>\n",
       "    </tr>\n",
       "  </thead>\n",
       "  <tbody>\n",
       "    <tr>\n",
       "      <th>2990</th>\n",
       "      <td>2009</td>\n",
       "      <td>50</td>\n",
       "      <td>2. Married</td>\n",
       "      <td>2. Black</td>\n",
       "      <td>2. HS Grad</td>\n",
       "      <td>2. Middle Atlantic</td>\n",
       "      <td>1. Industrial</td>\n",
       "      <td>2. &gt;=Very Good</td>\n",
       "      <td>2. No</td>\n",
       "      <td>4.886491</td>\n",
       "      <td>132.487821</td>\n",
       "    </tr>\n",
       "    <tr>\n",
       "      <th>2991</th>\n",
       "      <td>2003</td>\n",
       "      <td>26</td>\n",
       "      <td>1. Never Married</td>\n",
       "      <td>2. Black</td>\n",
       "      <td>3. Some College</td>\n",
       "      <td>2. Middle Atlantic</td>\n",
       "      <td>1. Industrial</td>\n",
       "      <td>2. &gt;=Very Good</td>\n",
       "      <td>2. No</td>\n",
       "      <td>4.778151</td>\n",
       "      <td>118.884359</td>\n",
       "    </tr>\n",
       "    <tr>\n",
       "      <th>2992</th>\n",
       "      <td>2007</td>\n",
       "      <td>35</td>\n",
       "      <td>2. Married</td>\n",
       "      <td>1. White</td>\n",
       "      <td>1. &lt; HS Grad</td>\n",
       "      <td>2. Middle Atlantic</td>\n",
       "      <td>1. Industrial</td>\n",
       "      <td>1. &lt;=Good</td>\n",
       "      <td>2. No</td>\n",
       "      <td>4.698970</td>\n",
       "      <td>109.833986</td>\n",
       "    </tr>\n",
       "    <tr>\n",
       "      <th>2993</th>\n",
       "      <td>2006</td>\n",
       "      <td>31</td>\n",
       "      <td>2. Married</td>\n",
       "      <td>1. White</td>\n",
       "      <td>2. HS Grad</td>\n",
       "      <td>2. Middle Atlantic</td>\n",
       "      <td>2. Information</td>\n",
       "      <td>2. &gt;=Very Good</td>\n",
       "      <td>1. Yes</td>\n",
       "      <td>4.633468</td>\n",
       "      <td>102.870247</td>\n",
       "    </tr>\n",
       "    <tr>\n",
       "      <th>2994</th>\n",
       "      <td>2009</td>\n",
       "      <td>31</td>\n",
       "      <td>2. Married</td>\n",
       "      <td>1. White</td>\n",
       "      <td>4. College Grad</td>\n",
       "      <td>2. Middle Atlantic</td>\n",
       "      <td>2. Information</td>\n",
       "      <td>2. &gt;=Very Good</td>\n",
       "      <td>1. Yes</td>\n",
       "      <td>4.893207</td>\n",
       "      <td>133.380608</td>\n",
       "    </tr>\n",
       "    <tr>\n",
       "      <th>2995</th>\n",
       "      <td>2008</td>\n",
       "      <td>44</td>\n",
       "      <td>2. Married</td>\n",
       "      <td>1. White</td>\n",
       "      <td>3. Some College</td>\n",
       "      <td>2. Middle Atlantic</td>\n",
       "      <td>1. Industrial</td>\n",
       "      <td>2. &gt;=Very Good</td>\n",
       "      <td>1. Yes</td>\n",
       "      <td>5.041393</td>\n",
       "      <td>154.685293</td>\n",
       "    </tr>\n",
       "    <tr>\n",
       "      <th>2996</th>\n",
       "      <td>2007</td>\n",
       "      <td>30</td>\n",
       "      <td>2. Married</td>\n",
       "      <td>1. White</td>\n",
       "      <td>2. HS Grad</td>\n",
       "      <td>2. Middle Atlantic</td>\n",
       "      <td>1. Industrial</td>\n",
       "      <td>2. &gt;=Very Good</td>\n",
       "      <td>2. No</td>\n",
       "      <td>4.602060</td>\n",
       "      <td>99.689464</td>\n",
       "    </tr>\n",
       "    <tr>\n",
       "      <th>2997</th>\n",
       "      <td>2005</td>\n",
       "      <td>27</td>\n",
       "      <td>2. Married</td>\n",
       "      <td>2. Black</td>\n",
       "      <td>1. &lt; HS Grad</td>\n",
       "      <td>2. Middle Atlantic</td>\n",
       "      <td>1. Industrial</td>\n",
       "      <td>1. &lt;=Good</td>\n",
       "      <td>2. No</td>\n",
       "      <td>4.193125</td>\n",
       "      <td>66.229408</td>\n",
       "    </tr>\n",
       "    <tr>\n",
       "      <th>2998</th>\n",
       "      <td>2005</td>\n",
       "      <td>27</td>\n",
       "      <td>1. Never Married</td>\n",
       "      <td>1. White</td>\n",
       "      <td>3. Some College</td>\n",
       "      <td>2. Middle Atlantic</td>\n",
       "      <td>1. Industrial</td>\n",
       "      <td>2. &gt;=Very Good</td>\n",
       "      <td>1. Yes</td>\n",
       "      <td>4.477121</td>\n",
       "      <td>87.981033</td>\n",
       "    </tr>\n",
       "    <tr>\n",
       "      <th>2999</th>\n",
       "      <td>2009</td>\n",
       "      <td>55</td>\n",
       "      <td>5. Separated</td>\n",
       "      <td>1. White</td>\n",
       "      <td>2. HS Grad</td>\n",
       "      <td>2. Middle Atlantic</td>\n",
       "      <td>1. Industrial</td>\n",
       "      <td>1. &lt;=Good</td>\n",
       "      <td>1. Yes</td>\n",
       "      <td>4.505150</td>\n",
       "      <td>90.481913</td>\n",
       "    </tr>\n",
       "  </tbody>\n",
       "</table>\n",
       "</div>"
      ],
      "text/plain": [
       "      year  age            maritl      race        education  \\\n",
       "2990  2009   50        2. Married  2. Black       2. HS Grad   \n",
       "2991  2003   26  1. Never Married  2. Black  3. Some College   \n",
       "2992  2007   35        2. Married  1. White     1. < HS Grad   \n",
       "2993  2006   31        2. Married  1. White       2. HS Grad   \n",
       "2994  2009   31        2. Married  1. White  4. College Grad   \n",
       "2995  2008   44        2. Married  1. White  3. Some College   \n",
       "2996  2007   30        2. Married  1. White       2. HS Grad   \n",
       "2997  2005   27        2. Married  2. Black     1. < HS Grad   \n",
       "2998  2005   27  1. Never Married  1. White  3. Some College   \n",
       "2999  2009   55      5. Separated  1. White       2. HS Grad   \n",
       "\n",
       "                  region        jobclass          health health_ins   logwage  \\\n",
       "2990  2. Middle Atlantic   1. Industrial  2. >=Very Good      2. No  4.886491   \n",
       "2991  2. Middle Atlantic   1. Industrial  2. >=Very Good      2. No  4.778151   \n",
       "2992  2. Middle Atlantic   1. Industrial       1. <=Good      2. No  4.698970   \n",
       "2993  2. Middle Atlantic  2. Information  2. >=Very Good     1. Yes  4.633468   \n",
       "2994  2. Middle Atlantic  2. Information  2. >=Very Good     1. Yes  4.893207   \n",
       "2995  2. Middle Atlantic   1. Industrial  2. >=Very Good     1. Yes  5.041393   \n",
       "2996  2. Middle Atlantic   1. Industrial  2. >=Very Good      2. No  4.602060   \n",
       "2997  2. Middle Atlantic   1. Industrial       1. <=Good      2. No  4.193125   \n",
       "2998  2. Middle Atlantic   1. Industrial  2. >=Very Good     1. Yes  4.477121   \n",
       "2999  2. Middle Atlantic   1. Industrial       1. <=Good     1. Yes  4.505150   \n",
       "\n",
       "            wage  \n",
       "2990  132.487821  \n",
       "2991  118.884359  \n",
       "2992  109.833986  \n",
       "2993  102.870247  \n",
       "2994  133.380608  \n",
       "2995  154.685293  \n",
       "2996   99.689464  \n",
       "2997   66.229408  \n",
       "2998   87.981033  \n",
       "2999   90.481913  "
      ]
     },
     "execution_count": 5,
     "metadata": {},
     "output_type": "execute_result"
    }
   ],
   "source": [
    "df.head(10) #printing first 10 rows\n",
    "df.tail(10) #printing the last 10 rows"
   ]
  },
  {
   "cell_type": "code",
   "execution_count": 6,
   "metadata": {},
   "outputs": [
    {
     "name": "stdout",
     "output_type": "stream",
     "text": [
      "The number of rows in the data frame is 3000\n"
     ]
    }
   ],
   "source": [
    "total_rows = df.shape[0] #total rows\n",
    "print(f'The number of rows in the data frame is {total_rows}')"
   ]
  },
  {
   "cell_type": "code",
   "execution_count": 7,
   "metadata": {},
   "outputs": [
    {
     "name": "stdout",
     "output_type": "stream",
     "text": [
      "<class 'pandas.core.frame.DataFrame'>\n",
      "RangeIndex: 3000 entries, 0 to 2999\n",
      "Data columns (total 11 columns):\n",
      " #   Column      Non-Null Count  Dtype  \n",
      "---  ------      --------------  -----  \n",
      " 0   year        3000 non-null   int64  \n",
      " 1   age         3000 non-null   int64  \n",
      " 2   maritl      3000 non-null   object \n",
      " 3   race        3000 non-null   object \n",
      " 4   education   3000 non-null   object \n",
      " 5   region      3000 non-null   object \n",
      " 6   jobclass    3000 non-null   object \n",
      " 7   health      3000 non-null   object \n",
      " 8   health_ins  3000 non-null   object \n",
      " 9   logwage     3000 non-null   float64\n",
      " 10  wage        3000 non-null   float64\n",
      "dtypes: float64(2), int64(2), object(7)\n",
      "memory usage: 257.9+ KB\n"
     ]
    },
    {
     "data": {
      "text/html": [
       "<div>\n",
       "<style scoped>\n",
       "    .dataframe tbody tr th:only-of-type {\n",
       "        vertical-align: middle;\n",
       "    }\n",
       "\n",
       "    .dataframe tbody tr th {\n",
       "        vertical-align: top;\n",
       "    }\n",
       "\n",
       "    .dataframe thead th {\n",
       "        text-align: right;\n",
       "    }\n",
       "</style>\n",
       "<table border=\"1\" class=\"dataframe\">\n",
       "  <thead>\n",
       "    <tr style=\"text-align: right;\">\n",
       "      <th></th>\n",
       "      <th>year</th>\n",
       "      <th>age</th>\n",
       "      <th>logwage</th>\n",
       "      <th>wage</th>\n",
       "    </tr>\n",
       "  </thead>\n",
       "  <tbody>\n",
       "    <tr>\n",
       "      <th>count</th>\n",
       "      <td>3000.000000</td>\n",
       "      <td>3000.000000</td>\n",
       "      <td>3000.000000</td>\n",
       "      <td>3000.000000</td>\n",
       "    </tr>\n",
       "    <tr>\n",
       "      <th>mean</th>\n",
       "      <td>2005.791000</td>\n",
       "      <td>42.414667</td>\n",
       "      <td>4.653905</td>\n",
       "      <td>111.703608</td>\n",
       "    </tr>\n",
       "    <tr>\n",
       "      <th>std</th>\n",
       "      <td>2.026167</td>\n",
       "      <td>11.542406</td>\n",
       "      <td>0.351753</td>\n",
       "      <td>41.728595</td>\n",
       "    </tr>\n",
       "    <tr>\n",
       "      <th>min</th>\n",
       "      <td>2003.000000</td>\n",
       "      <td>18.000000</td>\n",
       "      <td>3.000000</td>\n",
       "      <td>20.085537</td>\n",
       "    </tr>\n",
       "    <tr>\n",
       "      <th>25%</th>\n",
       "      <td>2004.000000</td>\n",
       "      <td>33.750000</td>\n",
       "      <td>4.447158</td>\n",
       "      <td>85.383940</td>\n",
       "    </tr>\n",
       "    <tr>\n",
       "      <th>50%</th>\n",
       "      <td>2006.000000</td>\n",
       "      <td>42.000000</td>\n",
       "      <td>4.653213</td>\n",
       "      <td>104.921507</td>\n",
       "    </tr>\n",
       "    <tr>\n",
       "      <th>75%</th>\n",
       "      <td>2008.000000</td>\n",
       "      <td>51.000000</td>\n",
       "      <td>4.857332</td>\n",
       "      <td>128.680488</td>\n",
       "    </tr>\n",
       "    <tr>\n",
       "      <th>max</th>\n",
       "      <td>2009.000000</td>\n",
       "      <td>80.000000</td>\n",
       "      <td>5.763128</td>\n",
       "      <td>318.342430</td>\n",
       "    </tr>\n",
       "  </tbody>\n",
       "</table>\n",
       "</div>"
      ],
      "text/plain": [
       "              year          age      logwage         wage\n",
       "count  3000.000000  3000.000000  3000.000000  3000.000000\n",
       "mean   2005.791000    42.414667     4.653905   111.703608\n",
       "std       2.026167    11.542406     0.351753    41.728595\n",
       "min    2003.000000    18.000000     3.000000    20.085537\n",
       "25%    2004.000000    33.750000     4.447158    85.383940\n",
       "50%    2006.000000    42.000000     4.653213   104.921507\n",
       "75%    2008.000000    51.000000     4.857332   128.680488\n",
       "max    2009.000000    80.000000     5.763128   318.342430"
      ]
     },
     "execution_count": 7,
     "metadata": {},
     "output_type": "execute_result"
    }
   ],
   "source": [
    "df.info() #metadata\n",
    "df.describe() #more detailed info"
   ]
  },
  {
   "cell_type": "code",
   "execution_count": 8,
   "metadata": {},
   "outputs": [
    {
     "name": "stdout",
     "output_type": "stream",
     "text": [
      "The data type of the age column is: int64\n",
      "The data type of the race column is: object\n"
     ]
    }
   ],
   "source": [
    "dtype_age = df['age'].dtype \n",
    "dtype_race = df['race'].dtype\n",
    "\n",
    "\n",
    "print(f'The data type of the age column is: {dtype_age}')\n",
    "print(f'The data type of the race column is: {dtype_race}')"
   ]
  },
  {
   "cell_type": "code",
   "execution_count": 9,
   "metadata": {},
   "outputs": [
    {
     "name": "stdout",
     "output_type": "stream",
     "text": [
      "The column names are: ['year', 'age', 'maritl', 'race', 'education', 'region', 'jobclass', 'health', 'health_ins', 'logwage', 'wage']\n"
     ]
    }
   ],
   "source": [
    "column_names = df.columns.to_list()\n",
    "\n",
    "print(f'The column names are: {column_names}')\n"
   ]
  },
  {
   "cell_type": "code",
   "execution_count": 10,
   "metadata": {},
   "outputs": [
    {
     "name": "stdout",
     "output_type": "stream",
     "text": [
      "The data frame's index is: RangeIndex(start=0, stop=3000, step=1)\n"
     ]
    }
   ],
   "source": [
    "index = df.index #displaying the index\n",
    "\n",
    "print(f\"The data frame's index is: {index}\")"
   ]
  },
  {
   "cell_type": "code",
   "execution_count": 11,
   "metadata": {},
   "outputs": [
    {
     "name": "stdout",
     "output_type": "stream",
     "text": [
      "The number of elements in the array is: 33000\n"
     ]
    }
   ],
   "source": [
    "size = df.size #finding the size\n",
    "\n",
    "print(f'The number of elements in the array is: {size}')"
   ]
  },
  {
   "cell_type": "code",
   "execution_count": 12,
   "metadata": {},
   "outputs": [
    {
     "name": "stdout",
     "output_type": "stream",
     "text": [
      "The number of rows is: 3000\n",
      "The number of columns is: 11\n"
     ]
    }
   ],
   "source": [
    "shape = df.shape\n",
    "\n",
    "print(f'The number of rows is: {shape[0]}')\n",
    "print(f'The number of columns is: {shape[1]}')"
   ]
  },
  {
   "cell_type": "code",
   "execution_count": 13,
   "metadata": {},
   "outputs": [
    {
     "name": "stdout",
     "output_type": "stream",
     "text": [
      "The descriptive stats for wage are: \n",
      "count    3000.000000\n",
      "mean      111.703608\n",
      "std        41.728595\n",
      "min        20.085537\n",
      "25%        85.383940\n",
      "50%       104.921507\n",
      "75%       128.680488\n",
      "max       318.342430\n",
      "Name: wage, dtype: float64\n",
      "The descriptive stats for age are: \n",
      "count    3000.000000\n",
      "mean       42.414667\n",
      "std        11.542406\n",
      "min        18.000000\n",
      "25%        33.750000\n",
      "50%        42.000000\n",
      "75%        51.000000\n",
      "max        80.000000\n",
      "Name: age, dtype: float64\n"
     ]
    }
   ],
   "source": [
    "wage_stats = df['wage'].describe()\n",
    "age_stats = df['age'].describe()\n",
    "\n",
    "print(f'The descriptive stats for wage are: \\n{wage_stats}')\n",
    "\n",
    "print(f'The descriptive stats for age are: \\n{age_stats}')"
   ]
  },
  {
   "cell_type": "code",
   "execution_count": 14,
   "metadata": {},
   "outputs": [
    {
     "name": "stdout",
     "output_type": "stream",
     "text": [
      "The stats for age and wage grouped by race are: \n",
      "             wage                                                           \\\n",
      "           count        mean        std        min        25%         50%   \n",
      "race                                                                        \n",
      "1. White  2480.0  112.563666  41.733830  20.085537  86.695155  106.348256   \n",
      "2. Black   293.0  101.601177  37.162486  23.274704  81.283253   94.072715   \n",
      "3. Asian   190.0  120.288288  46.422514  34.607418  87.981033  115.375039   \n",
      "4. Other    37.0   89.973326  29.153530  38.223583  71.319639   81.283253   \n",
      "\n",
      "                                     age                                     \\\n",
      "                 75%         max   count       mean        std   min    25%   \n",
      "race                                                                          \n",
      "1. White  130.042934  314.329336  2480.0  42.394758  11.365655  18.0  34.00   \n",
      "2. Black  117.146817  318.342430   293.0  43.563140  13.012913  18.0  33.00   \n",
      "3. Asian  144.828129  299.262977   190.0  41.821053  11.218823  22.0  32.25   \n",
      "4. Other  104.921507  169.528538    37.0  37.702703  11.553895  21.0  28.00   \n",
      "\n",
      "                            \n",
      "           50%   75%   max  \n",
      "race                        \n",
      "1. White  42.0  51.0  80.0  \n",
      "2. Black  44.0  52.0  75.0  \n",
      "3. Asian  40.0  50.0  76.0  \n",
      "4. Other  39.0  47.0  65.0  \n"
     ]
    }
   ],
   "source": [
    "stats_by_race = df.groupby('race')[['wage', 'age']].describe()\n",
    "\n",
    "print(f'The stats for age and wage grouped by race are: \\n {stats_by_race}')"
   ]
  },
  {
   "cell_type": "code",
   "execution_count": 15,
   "metadata": {},
   "outputs": [
    {
     "name": "stdout",
     "output_type": "stream",
     "text": [
      "111.70360820174345\n",
      "104.921506533664\n"
     ]
    }
   ],
   "source": [
    "wage_mean = df['wage'].mean()\n",
    "print(wage_mean)\n",
    "\n",
    "wage_median = df['wage'].median()\n",
    "print(wage_median)\n",
    "\n",
    "#The fact that the mean is greater than the median tells us that we may have a skewed distribution. This could be caused by\n",
    "# higher values influencing the mean."
   ]
  },
  {
   "cell_type": "code",
   "execution_count": 16,
   "metadata": {},
   "outputs": [
    {
     "data": {
      "text/html": [
       "<div>\n",
       "<style scoped>\n",
       "    .dataframe tbody tr th:only-of-type {\n",
       "        vertical-align: middle;\n",
       "    }\n",
       "\n",
       "    .dataframe tbody tr th {\n",
       "        vertical-align: top;\n",
       "    }\n",
       "\n",
       "    .dataframe thead th {\n",
       "        text-align: right;\n",
       "    }\n",
       "</style>\n",
       "<table border=\"1\" class=\"dataframe\">\n",
       "  <thead>\n",
       "    <tr style=\"text-align: right;\">\n",
       "      <th></th>\n",
       "      <th>wage</th>\n",
       "      <th>age</th>\n",
       "    </tr>\n",
       "  </thead>\n",
       "  <tbody>\n",
       "    <tr>\n",
       "      <th>0</th>\n",
       "      <td>75.043154</td>\n",
       "      <td>18</td>\n",
       "    </tr>\n",
       "    <tr>\n",
       "      <th>1</th>\n",
       "      <td>70.476020</td>\n",
       "      <td>24</td>\n",
       "    </tr>\n",
       "    <tr>\n",
       "      <th>2</th>\n",
       "      <td>130.982177</td>\n",
       "      <td>45</td>\n",
       "    </tr>\n",
       "    <tr>\n",
       "      <th>3</th>\n",
       "      <td>154.685293</td>\n",
       "      <td>43</td>\n",
       "    </tr>\n",
       "    <tr>\n",
       "      <th>4</th>\n",
       "      <td>75.043154</td>\n",
       "      <td>50</td>\n",
       "    </tr>\n",
       "    <tr>\n",
       "      <th>...</th>\n",
       "      <td>...</td>\n",
       "      <td>...</td>\n",
       "    </tr>\n",
       "    <tr>\n",
       "      <th>2995</th>\n",
       "      <td>154.685293</td>\n",
       "      <td>44</td>\n",
       "    </tr>\n",
       "    <tr>\n",
       "      <th>2996</th>\n",
       "      <td>99.689464</td>\n",
       "      <td>30</td>\n",
       "    </tr>\n",
       "    <tr>\n",
       "      <th>2997</th>\n",
       "      <td>66.229408</td>\n",
       "      <td>27</td>\n",
       "    </tr>\n",
       "    <tr>\n",
       "      <th>2998</th>\n",
       "      <td>87.981033</td>\n",
       "      <td>27</td>\n",
       "    </tr>\n",
       "    <tr>\n",
       "      <th>2999</th>\n",
       "      <td>90.481913</td>\n",
       "      <td>55</td>\n",
       "    </tr>\n",
       "  </tbody>\n",
       "</table>\n",
       "<p>3000 rows × 2 columns</p>\n",
       "</div>"
      ],
      "text/plain": [
       "            wage  age\n",
       "0      75.043154   18\n",
       "1      70.476020   24\n",
       "2     130.982177   45\n",
       "3     154.685293   43\n",
       "4      75.043154   50\n",
       "...          ...  ...\n",
       "2995  154.685293   44\n",
       "2996   99.689464   30\n",
       "2997   66.229408   27\n",
       "2998   87.981033   27\n",
       "2999   90.481913   55\n",
       "\n",
       "[3000 rows x 2 columns]"
      ]
     },
     "execution_count": 16,
     "metadata": {},
     "output_type": "execute_result"
    }
   ],
   "source": [
    "df[['wage','age']]  #displaying the wage and age columns only"
   ]
  },
  {
   "cell_type": "code",
   "execution_count": 17,
   "metadata": {},
   "outputs": [
    {
     "name": "stdout",
     "output_type": "stream",
     "text": [
      "          wage       age\n",
      "wage  1.000000  0.195637\n",
      "age   0.195637  1.000000\n"
     ]
    }
   ],
   "source": [
    "correlation = df[['wage','age']].corr()\n",
    "\n",
    "print(correlation)\n",
    "\n",
    "#we can see that the correlation coefficient between age and wage is approx 0.2, which means the columns are not heavily correlated."
   ]
  },
  {
   "cell_type": "code",
   "execution_count": 19,
   "metadata": {},
   "outputs": [
    {
     "name": "stdout",
     "output_type": "stream",
     "text": [
      "206     318.342430\n",
      "1229    318.342430\n",
      "503     314.329336\n",
      "1293    311.934569\n",
      "2712    309.571771\n",
      "1112    309.571771\n",
      "2893    299.262977\n",
      "2925    295.991250\n",
      "489     284.524741\n",
      "347     281.745971\n",
      "Name: wage, dtype: float64\n"
     ]
    }
   ],
   "source": [
    "top_10_salaries = df['wage'].sort_values(ascending=False)[:10]\n",
    "print(top_10_salaries)"
   ]
  },
  {
   "cell_type": "code",
   "execution_count": 26,
   "metadata": {},
   "outputs": [
    {
     "name": "stdout",
     "output_type": "stream",
     "text": [
      "race\n",
      "1. White    2480\n",
      "2. Black     293\n",
      "3. Asian     190\n",
      "4. Other      37\n",
      "Name: count, dtype: int64\n"
     ]
    },
    {
     "data": {
      "text/plain": [
       "race\n",
       "1. White    0.826667\n",
       "2. Black    0.097667\n",
       "3. Asian    0.063333\n",
       "4. Other    0.012333\n",
       "Name: proportion, dtype: float64"
      ]
     },
     "execution_count": 26,
     "metadata": {},
     "output_type": "execute_result"
    }
   ],
   "source": [
    "race_count = df['race'].value_counts() #empty provides integer count \n",
    "print(race_count)\n"
   ]
  },
  {
   "cell_type": "code",
   "execution_count": 29,
   "metadata": {},
   "outputs": [
    {
     "name": "stdout",
     "output_type": "stream",
     "text": [
      "race\n",
      "1. White    82.666667\n",
      "2. Black     9.766667\n",
      "3. Asian     6.333333\n",
      "4. Other     1.233333\n",
      "Name: proportion, dtype: float64\n"
     ]
    }
   ],
   "source": [
    "race_proportion = df['race'].value_counts(normalize=True) * 100 #normalize = True returns proportions (Multiply by 100 to get percentage)\n",
    "print(race_proportion)"
   ]
  },
  {
   "cell_type": "code",
   "execution_count": 36,
   "metadata": {},
   "outputs": [
    {
     "name": "stdout",
     "output_type": "stream",
     "text": [
      "region\n",
      "2. Middle Atlantic    1.0\n",
      "Name: proportion, dtype: float64\n"
     ]
    },
    {
     "data": {
      "text/plain": [
       "<Axes: xlabel='region'>"
      ]
     },
     "execution_count": 36,
     "metadata": {},
     "output_type": "execute_result"
    },
    {
     "data": {
      "image/png": "[encoded data removed]",
      "text/plain": [
       "<Figure size 640x480 with 1 Axes>"
      ]
     },
     "metadata": {},
     "output_type": "display_data"
    }
   ],
   "source": [
    "print(df['region'].value_counts(normalize=True)) #revising proportionality to check bar plot\n",
    "\n",
    "df['region'].value_counts(normalize=True).plot(kind='bar') # bar plot based on proportionality\n"
   ]
  }
 ],
 "metadata": {
  "kernelspec": {
   "display_name": "Python 3.9.1 64-bit",
   "language": "python",
   "name": "python3"
  },
  "language_info": {
   "codemirror_mode": {
    "name": "ipython",
    "version": 3
   },
   "file_extension": ".py",
   "mimetype": "text/x-python",
   "name": "python",
   "nbconvert_exporter": "python",
   "pygments_lexer": "ipython3",
   "version": "3.9.1"
  },
  "orig_nbformat": 4,
  "vscode": {
   "interpreter": {
    "hash": "aee8b7b246df8f9039afb4144a1f6fd8d2ca17a180786b69acc140d282b71a49"
   }
  }
 },
 "nbformat": 4,
 "nbformat_minor": 2
}
