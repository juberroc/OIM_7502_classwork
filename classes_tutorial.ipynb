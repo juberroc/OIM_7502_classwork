{
 "cells": [
  {
   "cell_type": "code",
   "execution_count": 24,
   "metadata": {},
   "outputs": [
    {
     "name": "stdout",
     "output_type": "stream",
     "text": [
      "25\n"
     ]
    }
   ],
   "source": [
    "import datetime as dt\n",
    "import dateutil as util\n",
    "\n",
    "class User:\n",
    "   \n",
    "    def __init__(self, username, email, birthday, passsword=None):\n",
    "        self.username = username\n",
    "        self.password = passsword\n",
    "        self.email = email\n",
    "        self.birthday = birthday\n",
    "\n",
    "    def __str__(self):\n",
    "        return f'Username: {self.username} \\nPassword: {self.password}'\n",
    "\n",
    "    def __repr__(self):\n",
    "        return f'{self.__class__.__name__}{self.__dict__}'\n",
    "\n",
    "    def __eq__(self, other):\n",
    "        return self.username == other.username\n",
    "    \n",
    "    def get_age(self):\n",
    "        ''' Calculates user age based on birthday '''\n",
    "        b_day = util.parser.parse(self.birthday)\n",
    "        today = dt.datetime.now()\n",
    "        return(today-b_day).days // 365\n",
    "\n",
    "\n",
    "if __name__ == \"__main__\":\n",
    "    user = User('Fred12','fred@some.come',\"2/7/99\")\n",
    "    #print(user.birthday)\n",
    "    #print(user)\n",
    "    #print(repr(user))\n",
    "    #other = User('Fred12', 'freddy@some.com', '2/8/00')\n",
    "    #print(other == user)\n",
    "    print(user.get_age())\n",
    "\n",
    " \n",
    "\n"
   ]
  }
 ],
 "metadata": {
  "kernelspec": {
   "display_name": "Python 3.9.1 64-bit",
   "language": "python",
   "name": "python3"
  },
  "language_info": {
   "codemirror_mode": {
    "name": "ipython",
    "version": 3
   },
   "file_extension": ".py",
   "mimetype": "text/x-python",
   "name": "python",
   "nbconvert_exporter": "python",
   "pygments_lexer": "ipython3",
   "version": "3.9.1"
  },
  "orig_nbformat": 4,
  "vscode": {
   "interpreter": {
    "hash": "aee8b7b246df8f9039afb4144a1f6fd8d2ca17a180786b69acc140d282b71a49"
   }
  }
 },
 "nbformat": 4,
 "nbformat_minor": 2
}
