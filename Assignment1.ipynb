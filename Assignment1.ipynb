{
 "cells": [
  {
   "cell_type": "markdown",
   "metadata": {},
   "source": [
    "# Assignment 1 \n",
    "### Julio Berrocal Alvarez\n",
    "### Advanced Programming \n"
   ]
  },
  {
   "cell_type": "code",
   "execution_count": 2,
   "metadata": {},
   "outputs": [],
   "source": [
    "#%pip install py-readability-metrics\n",
    "#%pip install pyPDF2\n",
    "\n",
    "import nltk\n",
    "import wordcloud \n",
    "from readability import Readability\n",
    "from PyPDF2 import PdfReader\n"
   ]
  },
  {
   "cell_type": "code",
   "execution_count": 5,
   "metadata": {},
   "outputs": [
    {
     "name": "stderr",
     "output_type": "stream",
     "text": [
      "[nltk_data] Downloading package punkt to\n",
      "[nltk_data]     /Users/julioberrocal/nltk_data...\n",
      "[nltk_data]   Package punkt is already up-to-date!\n",
      "[nltk_data] Downloading package stopwords to\n",
      "[nltk_data]     /Users/julioberrocal/nltk_data...\n",
      "[nltk_data]   Package stopwords is already up-to-date!\n",
      "[nltk_data] Downloading package vader_lexicon to\n",
      "[nltk_data]     /Users/julioberrocal/nltk_data...\n",
      "[nltk_data]   Package vader_lexicon is already up-to-date!\n"
     ]
    },
    {
     "data": {
      "text/plain": [
       "True"
      ]
     },
     "execution_count": 5,
     "metadata": {},
     "output_type": "execute_result"
    }
   ],
   "source": [
    "'''\n",
    "import ssl  #used stack overflow for code below (necessary to run the nltk.download())\n",
    "try:\n",
    "    _create_unverified_https_context = ssl._create_unverified_context\n",
    "except AttributeError:\n",
    "    pass\n",
    "else:\n",
    "    ssl._create_default_https_context = _create_unverified_https_context\n",
    "'''\n",
    "#-------------------------------------------------------------------------#\n",
    "\n",
    "nltk.download('punkt')\n",
    "nltk.download('stopwords')\n",
    "nltk.download('vader_lexicon')\n"
   ]
  },
  {
   "cell_type": "markdown",
   "metadata": {},
   "source": [
    "## Article 1: Harvard president will submit dissertation edits after plagiarism allegations\n",
    "The article talks about the allegations of plagiarism against Claudine Gay, Harvard's president. It provides information on how the allegations came along, the investigation into Gay's dissertation by Harvard and the resulting edits Gay is introducing into her dissertation. Additionally, the article mentions the backlash received by Gay after her comments in a congressional hearing regarding the Israel-Hamas conflict and the effects it has had on Harvard's college campus. \n",
    "The article appears very objective, only providing important information pertinent to the news, rather than any opinions the author, Gabriella Borter, may have. \n",
    "\n",
    "\n",
    "## Article 2: Embattled Harvard University President Claudine Gay hit with more plagiarism charges\n",
    "This article also refers to the palgiarism allegations againts Claudine Gay, whilst also mentioning the backlash received by Gay due to her comments during a congressional hearing. However, this article presents itself as a more emotional article. It provides insights and opinions from different perspectives, such as Derrick Johnson, NAACP President, who believes this is a racial issue and a Harvard student who believes students are held to a higher standard than faculty, atleast in terms of plagiarism-related consequences. The article also quotes another source, the Free Beacon, who claim they have completed an investigation into other numerous instances of Gay's plagiarism. Overall, this article focuses on the same topics as the previous one, but offers a more subjective and emotional view of events accompanied by a more aggresive, condemning tone."
   ]
  },
  {
   "cell_type": "code",
   "execution_count": null,
   "metadata": {},
   "outputs": [],
   "source": [
    "#Reuters Text\n",
    "\n",
    "r_reader = PdfReader('/Users/julioberrocal/Desktop/Classes/Winter 2024/Advanced Programming/Assignment1_Files/Reuters.pdf')\n",
    "r_pages = len(r_reader.pages)\n",
    "r_text = ''\n",
    "\n",
    "for i in range(r_pages):\n",
    "    text = r_reader.pages[i].extract_text()\n",
    "    r_text += text + ' '\n",
    " \n",
    "r_text"
   ]
  },
  {
   "cell_type": "code",
   "execution_count": 18,
   "metadata": {},
   "outputs": [
    {
     "data": {
      "text/plain": [
       "'1 / 5Brian FloodEmbattled Harvard University President Claudine Gay hit\\nwith more plagiarism charges\\nfoxnews.com /media/embattled-harvard-university-president-claudine-gay-hit-more-plagiarism-charges\\nMedia\\nHarvard ‘received a complaint outlining over 40 allegations of\\nplagiarism,’ according to the Free Beacon\\n By Brian Flood  Fox News\\nPublished December 20, 2023 12:59pm EST\\nHarvard president facing 40 new allegations of plagiarism\\nFox News\\' Molly Line reports the latest on the allegations. \\nEmbattled Harvard University President Claudine Gay  has been slapped with additional\\ncharges of plagiarism. \\nThe Washington Free Beacon  reported Harvard \"received a complaint outlining over 40\\nallegations of plagiarism\" against Gay on T uesday , noting a letter was sent to Harvard\\'s\\nresearch integrity of ficer, Stacey Springs, outlining the claims. \\n\"The document paints a picture of a pattern of misconduct more extensive than has been\\npreviously reported and puts the Harvard Corporation, the university\\'s governing body —\\nwhich said it initiated an ‘independent review’ of Gay\\'s scholarship and issued a statement of\\nsupport for her leadership — back in the spotlight,\" Free Beacon reporter Aaron Sibarium\\nwrote. \\nHAR VARD BOARD ST ANDS BY EMBA TTLED PRESIDENT CLAUDINE GA Y, ADMITS\\n‘INADEQUA TE CIT ATION’ IN SOME WRITINGS 2 / 5\\nClaudine Gay , president of Harvard University , speaks during a House Education and the\\nWorkforce Committee hearing in W ashington, D.C., on Dec. 5.  (Haiyun Jiang/Bloomberg via\\nGetty Images)\\nThe Free Beacon reported that it \"independently verified the veracity of the new allegations\\nagainst Gay , as well as the identity of the complainant,\" who is a professor at another\\nuniversity who requested \"anonymity for fear of retaliation.\"\\nEarlier this month, Harvard Corporation, the school’ s highest governing body , announced it\\nwould stand by Gay despite intense backlash to controversial comments about antisemitism\\nand accusations of plagiarism, although it admitted a probe found \"instances of inadequate\\ncitation\" in her academic writings. \\nThe Free Beacon previously reported that in four papers published between 1993 and 2017,\\nincluding her doctoral dissertation, Gay \"paraphrased or quoted nearly 20 authors —\\nincluding two of her colleagues in Harvard University’ s department of government — without\\nproper attribution,\" according to an analysis by the investigative news site.\\nThe Free Beacon reported it worked with scholars to analyze \"29 potential cases of\\nplagiarism,\" and most believed Gay , a political scientist, had violated Harvard’ s own policies\\nagainst plagiarism by simply changing a few words at times without proper citation. The\\nManhattan Institute’ s Christopher Rufo and journalist Christopher Brunet also published\\ninstances  of what they said were problematic sections of her Ph.D. dissertation that \"violate\\nHarvard’ s own stated policies on academic integrity .\" 3 / 5NAACP LEADER DEFENDS HAR VARD PRESIDENT CLAUDINE GA Y, SAYS CRITICS\\nARE \\'ADV ANCING A WHITE SUPREMACIST AGENDA\\'\\nNAACP President Derrick Johnson recently defended embattled Harvard President Claudine\\nGay, claiming \"attacks on her leadership are nothing more than political theatrics advancing\\na white supremacist agenda.\"  (Getty)\\nAccording to the Free Beacon, new allegations included \"dozens of additional cases in which\\nGay quoted or paraphrased authors without proper attribution\" that were submitted to\\nHarvard\\'s research integrity of ficer.\\n\"They range from missing quotation marks around a few phrases or sentences to entire\\nparagraphs lifted verbatim,\" Sibarium wrote. \"The full list of examples spans seven of Gay\\'s\\npublications — two more than previously reported — which comprise almost half of her\\nscholarly output.\"\\nThe Free Beacon obtained a copy  of the complaint sent to Harvard\\'s research integrity of ficer\\nthat said it was \"impossible\" for the school’ s probe to have reviewed all of the accusations in\\ntime to claim Gay didn’t violate Harvard\\'s standards for research.  \\n\"Know that it is impossible that your of fice has already reviewed the entirety of these\\nmaterials as many examples below have not been previously reported or submitted to\\nHarvard,\" the letter stated. \\nHAR VARD STUDENT SA YS THE DECISION T O KEEP THE PRESIDENT IS \\'P ART OF A\\nREALL Y LARGE T OXIC CUL TURE\\' ON CAMPUS 4 / 5Harvard did not immediately respond to a request for comment from Fox News Digital.\\n\"Lurking in the background of the complaint is the question of whether Gay , Harvard\\'s 30th\\npresident, will be held to the same standards as the university\\'s own students, dozens of\\nwhom are disciplined for plagiarism each year . The school has typically been softer on\\nfaculty accused of academic dishonesty , either giving them a symbolic slap on the wrist or\\ndismissing the charges altogether ,\" Sibarium wrote.\\nVideo\\nFox News’ David Rutz contributed to this report. \\nCLICK HERE T O GET THE FOX NEWS APP\\nBrian Flood is a media editor/reporter for FOX News Digital. Story tips can be sent\\nto brian.flood@fox.com  and on T witter: @briansflood. \\nMore From Fox News\\nGet all the stories you need-to-know from the most powerful name in news delivered first\\nthing every morning to your inbox\\nArrives Weekdays\\nSubscribe\\nPromoted 5 / 5\\n2023-24 NFL playof f odds: Every team\\'s odds to make the postseason\\n \\n  '"
      ]
     },
     "execution_count": 18,
     "metadata": {},
     "output_type": "execute_result"
    }
   ],
   "source": [
    "#Fox Text\n",
    "\n",
    "f_reader = PdfReader('/Users/julioberrocal/Desktop/Classes/Winter 2024/Advanced Programming/Assignment1_Files/Foxnews.pdf')\n",
    "f_pages = len(f_reader.pages)\n",
    "f_text = ''\n",
    "\n",
    "for i in range(f_pages):\n",
    "    text = f_reader.pages[i].extract_text()\n",
    "    f_text += text + ' '\n",
    "\n",
    "f_text"
   ]
  },
  {
   "cell_type": "code",
   "execution_count": null,
   "metadata": {},
   "outputs": [],
   "source": [
    "##"
   ]
  }
 ],
 "metadata": {
  "kernelspec": {
   "display_name": "Python 3.9.1 64-bit",
   "language": "python",
   "name": "python3"
  },
  "language_info": {
   "codemirror_mode": {
    "name": "ipython",
    "version": 3
   },
   "file_extension": ".py",
   "mimetype": "text/x-python",
   "name": "python",
   "nbconvert_exporter": "python",
   "pygments_lexer": "ipython3",
   "version": "3.9.1"
  },
  "orig_nbformat": 4,
  "vscode": {
   "interpreter": {
    "hash": "aee8b7b246df8f9039afb4144a1f6fd8d2ca17a180786b69acc140d282b71a49"
   }
  }
 },
 "nbformat": 4,
 "nbformat_minor": 2
}
