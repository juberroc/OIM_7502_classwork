{
 "cells": [
  {
   "cell_type": "markdown",
   "metadata": {},
   "source": [
    "# Assignment 1 \n",
    "### Julio Berrocal Alvarez\n",
    "### Advanced Programming \n"
   ]
  },
  {
   "cell_type": "code",
   "execution_count": 2,
   "metadata": {},
   "outputs": [],
   "source": [
    "#%pip install py-readability-metrics\n",
    "#%pip install pyPDF2\n",
    "\n",
    "import nltk\n",
    "import wordcloud \n",
    "from readability import Readability\n",
    "from PyPDF2 import PdfReader\n"
   ]
  },
  {
   "cell_type": "code",
   "execution_count": 4,
   "metadata": {},
   "outputs": [
    {
     "name": "stderr",
     "output_type": "stream",
     "text": [
      "[nltk_data] Downloading package punkt to\n",
      "[nltk_data]     /Users/julioberrocal/nltk_data...\n",
      "[nltk_data]   Package punkt is already up-to-date!\n",
      "[nltk_data] Downloading package stopwords to\n",
      "[nltk_data]     /Users/julioberrocal/nltk_data...\n",
      "[nltk_data]   Package stopwords is already up-to-date!\n",
      "[nltk_data] Downloading package vader_lexicon to\n",
      "[nltk_data]     /Users/julioberrocal/nltk_data...\n",
      "[nltk_data]   Package vader_lexicon is already up-to-date!\n"
     ]
    },
    {
     "data": {
      "text/plain": [
       "True"
      ]
     },
     "execution_count": 4,
     "metadata": {},
     "output_type": "execute_result"
    }
   ],
   "source": [
    "\n",
    "import ssl  #used stack overflow for code below (necessary to run the nltk.download())\n",
    "try:\n",
    "    _create_unverified_https_context = ssl._create_unverified_context\n",
    "except AttributeError:\n",
    "    pass\n",
    "else:\n",
    "    ssl._create_default_https_context = _create_unverified_https_context\n",
    "\n",
    "#-------------------------------------------------------------------------#\n",
    "\n",
    "nltk.download('punkt')\n",
    "nltk.download('stopwords')\n",
    "nltk.download('vader_lexicon')\n"
   ]
  },
  {
   "cell_type": "markdown",
   "metadata": {},
   "source": [
    "## Article 1: Harvard president will submit dissertation edits after plagiarism allegations\n",
    "The article talks about the allegations of plagiarism against Claudine Gay, Harvard's president. It provides information on how the allegations came along, the investigation into Gay's dissertation by Harvard and the resulting edits Gay is introducing into her dissertation. Additionally, the article mentions the backlash received by Gay after her comments in a congressional hearing regarding the Israel-Hamas conflict and the effects it has had on Harvard's college campus. \n",
    "The article appears very objective, only providing important information pertinent to the news, rather than any opinions the author, Gabriella Borter, may have. \n",
    "\n",
    "\n",
    "## Article 2: Embattled Harvard University President Claudine Gay hit with more plagiarism charges\n",
    "This article also refers to the palgiarism allegations againts Claudine Gay, whilst also mentioning the backlash received by Gay due to her comments during a congressional hearing. However, this article presents itself as a more emotional article. It provides insights and opinions from different perspectives, such as Derrick Johnson, NAACP President, who believes this is a racial issue and a Harvard student who believes students are held to a higher standard than faculty, atleast in terms of plagiarism-related consequences. The article also quotes another source, the Free Beacon, who claim they have completed an investigation into other numerous instances of Gay's plagiarism. Overall, this article focuses on the same topics as the previous one, but offers a more subjective and emotional view of events accompanied by a more aggresive, condemning tone."
   ]
  },
  {
   "cell_type": "code",
   "execution_count": null,
   "metadata": {},
   "outputs": [],
   "source": [
    "#Reuters Text\n",
    "\n",
    "r_reader = PdfReader('/Users/julioberrocal/Desktop/Classes/Winter 2024/Advanced Programming/Assignment1_Files/Reuters.pdf')\n",
    "r_pages = len(r_reader.pages)\n",
    "r_text = ''\n",
    "\n",
    "for i in range(r_pages):\n",
    "    text = r_reader.pages[i].extract_text()\n",
    "    r_text += text + ' '\n",
    " \n",
    "r_text"
   ]
  },
  {
   "cell_type": "code",
   "execution_count": null,
   "metadata": {},
   "outputs": [],
   "source": [
    "#Fox Text\n",
    "\n",
    "f_reader = PdfReader('/Users/julioberrocal/Desktop/Classes/Winter 2024/Advanced Programming/Assignment1_Files/Foxnews.pdf')\n",
    "f_pages = len(f_reader.pages)\n",
    "f_text = ''\n",
    "\n",
    "for i in range(f_pages):\n",
    "    text = f_reader.pages[i].extract_text()\n",
    "    f_text += text + ' '\n",
    "\n",
    "f_text"
   ]
  },
  {
   "cell_type": "code",
   "execution_count": 5,
   "metadata": {},
   "outputs": [],
   "source": [
    "##"
   ]
  }
 ],
 "metadata": {
  "kernelspec": {
   "display_name": "Python 3.9.1 64-bit",
   "language": "python",
   "name": "python3"
  },
  "language_info": {
   "codemirror_mode": {
    "name": "ipython",
    "version": 3
   },
   "file_extension": ".py",
   "mimetype": "text/x-python",
   "name": "python",
   "nbconvert_exporter": "python",
   "pygments_lexer": "ipython3",
   "version": "3.9.1"
  },
  "orig_nbformat": 4,
  "vscode": {
   "interpreter": {
    "hash": "aee8b7b246df8f9039afb4144a1f6fd8d2ca17a180786b69acc140d282b71a49"
   }
  }
 },
 "nbformat": 4,
 "nbformat_minor": 2
}
