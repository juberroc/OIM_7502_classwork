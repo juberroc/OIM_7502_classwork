{
 "cells": [
  {
   "cell_type": "markdown",
   "id": "82d4a65b",
   "metadata": {},
   "source": [
    "## Basic NumPy Functionality"
   ]
  },
  {
   "cell_type": "markdown",
   "id": "d5841649",
   "metadata": {},
   "source": [
    "### NumPy n-dim array\n",
    "* Part of a Data \"ecosystem\" which includes data science libaries, machine learning and image processing\n",
    "* NumPy is huge and very powerful --> we will just hit the highlights\n",
    "* optimized array, superior to lists\n",
    "* can be \"any\" number of dimensions, typically 1 or 2 dims though\n",
    "* restricted to a single data type\n",
    "* required to \"dimension\" your arrays when you initialize them "
   ]
  },
  {
   "cell_type": "code",
   "execution_count": 1,
   "id": "e00a4c30",
   "metadata": {},
   "outputs": [],
   "source": [
    "import numpy as np"
   ]
  },
  {
   "cell_type": "code",
   "execution_count": 2,
   "id": "f5e76bd4",
   "metadata": {},
   "outputs": [],
   "source": [
    "l = [1, 2, 3] \n",
    "a = np.array([1,2,3])"
   ]
  },
  {
   "cell_type": "markdown",
   "id": "8f923313",
   "metadata": {},
   "source": [
    "### Performance"
   ]
  },
  {
   "cell_type": "code",
   "execution_count": 4,
   "id": "d4955753",
   "metadata": {},
   "outputs": [
    {
     "data": {
      "text/plain": [
       "4500000"
      ]
     },
     "execution_count": 4,
     "metadata": {},
     "output_type": "execute_result"
    }
   ],
   "source": [
    "big_arr = np.arange(4.5e6)\n",
    "big_list = big_arr.tolist()\n",
    "\n",
    "len(big_arr)"
   ]
  },
  {
   "cell_type": "code",
   "execution_count": 6,
   "id": "510ad96a",
   "metadata": {},
   "outputs": [
    {
     "name": "stdout",
     "output_type": "stream",
     "text": [
      "549 ms ± 13.2 ms per loop (mean ± std. dev. of 7 runs, 10 loops each)\n"
     ]
    }
   ],
   "source": [
    "%timeit -n10 square = [x ** 2 for x in big_list]"
   ]
  },
  {
   "cell_type": "code",
   "execution_count": 8,
   "id": "a820ae3b",
   "metadata": {},
   "outputs": [
    {
     "name": "stdout",
     "output_type": "stream",
     "text": [
      "9.47 ms ± 3.73 ms per loop (mean ± std. dev. of 7 runs, 10 loops each)\n"
     ]
    }
   ],
   "source": [
    "%timeit -n10 square = big_arr ** 2"
   ]
  },
  {
   "cell_type": "markdown",
   "id": "5ed5818d",
   "metadata": {},
   "source": [
    "### Determining dimensions\n",
    "* size = \"rows\" * \"columns\"\n",
    "* itemsize --> number of bytes used by a single value\n",
    "* itemsize * size = bytes of memory the array uses\n",
    "* shape --> comma separated tuple of length of each dimension\n",
    "* ndim --> int value of dimensions present\n",
    "* reshape --> dimension manipulation"
   ]
  },
  {
   "cell_type": "code",
   "execution_count": 9,
   "id": "117f3b2a",
   "metadata": {},
   "outputs": [
    {
     "data": {
      "text/plain": [
       "15"
      ]
     },
     "execution_count": 9,
     "metadata": {},
     "output_type": "execute_result"
    }
   ],
   "source": [
    "arr = np.arange(15)\n",
    "arr.size"
   ]
  },
  {
   "cell_type": "code",
   "execution_count": 10,
   "id": "646a24a3",
   "metadata": {},
   "outputs": [
    {
     "data": {
      "text/plain": [
       "array([[ 0,  1,  2,  3,  4],\n",
       "       [ 5,  6,  7,  8,  9],\n",
       "       [10, 11, 12, 13, 14]])"
      ]
     },
     "execution_count": 10,
     "metadata": {},
     "output_type": "execute_result"
    }
   ],
   "source": [
    "arr.reshape(3,5)"
   ]
  },
  {
   "cell_type": "code",
   "execution_count": 12,
   "id": "55826f28",
   "metadata": {},
   "outputs": [
    {
     "name": "stdout",
     "output_type": "stream",
     "text": [
      "1\n",
      "8\n"
     ]
    }
   ],
   "source": [
    "print(arr.ndim)\n",
    "print(arr.itemsize)"
   ]
  },
  {
   "cell_type": "code",
   "execution_count": null,
   "id": "f9cd89ae",
   "metadata": {},
   "outputs": [],
   "source": [
    "arr.reshape(-1)"
   ]
  },
  {
   "cell_type": "markdown",
   "id": "1ef24555",
   "metadata": {},
   "source": [
    "### \"Slicing\""
   ]
  },
  {
   "cell_type": "code",
   "execution_count": 14,
   "id": "c3c79807",
   "metadata": {},
   "outputs": [
    {
     "data": {
      "text/plain": [
       "array([ 0,  5, 10])"
      ]
     },
     "execution_count": 14,
     "metadata": {},
     "output_type": "execute_result"
    }
   ],
   "source": [
    "arr = arr.reshape(3,5)\n",
    "arr[:,0]"
   ]
  },
  {
   "cell_type": "markdown",
   "id": "4a031caf",
   "metadata": {},
   "source": [
    "### Special arrays\n",
    "* useful for dimensioning an array before you aknow what values it will hold"
   ]
  },
  {
   "cell_type": "code",
   "execution_count": 15,
   "id": "65ad950d",
   "metadata": {},
   "outputs": [
    {
     "data": {
      "text/plain": [
       "array([0., 0., 0., 0., 0., 0., 0., 0., 0., 0.])"
      ]
     },
     "execution_count": 15,
     "metadata": {},
     "output_type": "execute_result"
    }
   ],
   "source": [
    "np.zeros(10)"
   ]
  },
  {
   "cell_type": "code",
   "execution_count": 16,
   "id": "5a461790",
   "metadata": {},
   "outputs": [
    {
     "data": {
      "text/plain": [
       "array([1., 1., 1., 1., 1., 1., 1., 1., 1., 1.])"
      ]
     },
     "execution_count": 16,
     "metadata": {},
     "output_type": "execute_result"
    }
   ],
   "source": [
    "np.ones(10)"
   ]
  },
  {
   "cell_type": "code",
   "execution_count": 17,
   "id": "b29ec0c4",
   "metadata": {},
   "outputs": [
    {
     "data": {
      "text/plain": [
       "array([], dtype=float64)"
      ]
     },
     "execution_count": 17,
     "metadata": {},
     "output_type": "execute_result"
    }
   ],
   "source": [
    "np.empty(0)"
   ]
  },
  {
   "cell_type": "code",
   "execution_count": 19,
   "id": "3e417d85",
   "metadata": {},
   "outputs": [
    {
     "data": {
      "text/plain": [
       "array([[1., 0., 0., 0., 0.],\n",
       "       [0., 1., 0., 0., 0.],\n",
       "       [0., 0., 1., 0., 0.],\n",
       "       [0., 0., 0., 1., 0.],\n",
       "       [0., 0., 0., 0., 1.]])"
      ]
     },
     "execution_count": 19,
     "metadata": {},
     "output_type": "execute_result"
    }
   ],
   "source": [
    "np.eye(5,5)"
   ]
  },
  {
   "cell_type": "markdown",
   "id": "a449962f",
   "metadata": {},
   "source": [
    "### Working with random numbers\n",
    "* many different distribution options\n",
    "* normal and uniform most common\n",
    "* normal, standard_normal\n",
    "* randn, randint"
   ]
  },
  {
   "cell_type": "markdown",
   "id": "2e026a2e",
   "metadata": {},
   "source": [
    "### Standard normal\n",
    "* mean 0\n",
    "* std 1\n",
    "* takes a single optional argument --> n\n",
    "* `np.random.standard_normal([size])`"
   ]
  },
  {
   "cell_type": "code",
   "execution_count": 20,
   "id": "ab595ac3",
   "metadata": {},
   "outputs": [
    {
     "data": {
      "text/plain": [
       "array([-1.94213771,  0.95200493, -1.91173133,  0.95460752,  0.57006972])"
      ]
     },
     "execution_count": 20,
     "metadata": {},
     "output_type": "execute_result"
    }
   ],
   "source": [
    "import numpy.random as npr\n",
    "npr.standard_normal(5)"
   ]
  },
  {
   "cell_type": "markdown",
   "id": "212e10f8",
   "metadata": {},
   "source": [
    "### Uniform Distributions\n",
    "* `np.random.randn(size=None)`\n",
    "* `np.random.randint(low, high=None, size=None, dtype=int)`\n",
    "    * excludes high --> called a half-open interval"
   ]
  },
  {
   "cell_type": "code",
   "execution_count": 21,
   "id": "1692699f",
   "metadata": {},
   "outputs": [
    {
     "data": {
      "text/plain": [
       "-0.750870539302426"
      ]
     },
     "execution_count": 21,
     "metadata": {},
     "output_type": "execute_result"
    }
   ],
   "source": [
    "npr.randn()"
   ]
  },
  {
   "cell_type": "code",
   "execution_count": 22,
   "id": "823394ab",
   "metadata": {},
   "outputs": [
    {
     "data": {
      "text/plain": [
       "array([1, 5, 3, 4, 3, 4, 1, 4, 1, 2, 4, 2, 6, 3, 3, 1, 5, 2, 2, 3])"
      ]
     },
     "execution_count": 22,
     "metadata": {},
     "output_type": "execute_result"
    }
   ],
   "source": [
    "npr.randint(1,7, size = 20)"
   ]
  },
  {
   "cell_type": "markdown",
   "id": "b834ed8a",
   "metadata": {},
   "source": [
    "### Normal\n",
    "* loc = mean\n",
    "* scale = std\n",
    "* if not specified mean = 0, std = 1"
   ]
  },
  {
   "cell_type": "code",
   "execution_count": 23,
   "id": "0f630557",
   "metadata": {},
   "outputs": [],
   "source": [
    "x = npr.normal(size=50)"
   ]
  },
  {
   "cell_type": "code",
   "execution_count": 24,
   "id": "6088426d",
   "metadata": {},
   "outputs": [
    {
     "name": "stdout",
     "output_type": "stream",
     "text": [
      "-0.0010438363080331936\n",
      "0.9559958286314462\n",
      "1.8287692235873918\n",
      "-1.9110001324099828\n"
     ]
    }
   ],
   "source": [
    "print(x.mean())\n",
    "print(x.std())\n",
    "print(x.max())\n",
    "print(x.min())\n",
    "# there is no median method"
   ]
  },
  {
   "cell_type": "code",
   "execution_count": 25,
   "id": "1bb5ac5d",
   "metadata": {},
   "outputs": [
    {
     "data": {
      "text/plain": [
       "array([-1.56326865,  0.05174018,  1.65114763])"
      ]
     },
     "execution_count": 25,
     "metadata": {},
     "output_type": "execute_result"
    }
   ],
   "source": [
    "np.percentile(x, [5, 50, 95])"
   ]
  },
  {
   "cell_type": "markdown",
   "id": "82aceac8",
   "metadata": {},
   "source": [
    "### Simple Linear Modeling"
   ]
  },
  {
   "cell_type": "code",
   "execution_count": 26,
   "id": "df625293",
   "metadata": {},
   "outputs": [],
   "source": [
    "import matplotlib.pyplot as plt"
   ]
  },
  {
   "cell_type": "code",
   "execution_count": null,
   "id": "abbdc52e",
   "metadata": {},
   "outputs": [],
   "source": [
    "x = npr.normal(size = 50)"
   ]
  },
  {
   "cell_type": "code",
   "execution_count": null,
   "id": "7a4964ea",
   "metadata": {},
   "outputs": [],
   "source": []
  },
  {
   "cell_type": "code",
   "execution_count": null,
   "id": "833219ca",
   "metadata": {},
   "outputs": [],
   "source": []
  },
  {
   "cell_type": "markdown",
   "id": "a5b13c1e",
   "metadata": {},
   "source": [
    "### More syntactically intense method to do the same thing\n",
    "* Requires a \"dummy\" variable next to actual x variable\n",
    "* The rcond allows for special handling of extremely small values "
   ]
  },
  {
   "cell_type": "code",
   "execution_count": null,
   "id": "254e2bba",
   "metadata": {},
   "outputs": [],
   "source": []
  },
  {
   "cell_type": "code",
   "execution_count": null,
   "id": "a6b2b57c",
   "metadata": {},
   "outputs": [],
   "source": []
  },
  {
   "cell_type": "code",
   "execution_count": null,
   "id": "3c438eda",
   "metadata": {},
   "outputs": [],
   "source": []
  },
  {
   "cell_type": "markdown",
   "id": "bc96861f",
   "metadata": {},
   "source": [
    "### Fill array with uniformly spaced data points between a minimum and maximum"
   ]
  },
  {
   "cell_type": "code",
   "execution_count": null,
   "id": "c0289a00",
   "metadata": {},
   "outputs": [],
   "source": []
  },
  {
   "cell_type": "code",
   "execution_count": null,
   "id": "03355598",
   "metadata": {},
   "outputs": [],
   "source": []
  }
 ],
 "metadata": {
  "kernelspec": {
   "display_name": "Python 3.9.1 64-bit",
   "language": "python",
   "name": "python3"
  },
  "language_info": {
   "codemirror_mode": {
    "name": "ipython",
    "version": 3
   },
   "file_extension": ".py",
   "mimetype": "text/x-python",
   "name": "python",
   "nbconvert_exporter": "python",
   "pygments_lexer": "ipython3",
   "version": "3.9.1"
  },
  "vscode": {
   "interpreter": {
    "hash": "aee8b7b246df8f9039afb4144a1f6fd8d2ca17a180786b69acc140d282b71a49"
   }
  }
 },
 "nbformat": 4,
 "nbformat_minor": 5
}
