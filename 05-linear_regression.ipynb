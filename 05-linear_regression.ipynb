{
 "cells": [
  {
   "cell_type": "markdown",
   "id": "f8b71b26",
   "metadata": {},
   "source": [
    "# Linear Regression\n",
    "* many implementations of OLS in various Python libraries: NumPy, SciPy, statsmodels, scikit-learn\n",
    "* "
   ]
  },
  {
   "cell_type": "code",
   "execution_count": 3,
   "id": "5bd5cd41",
   "metadata": {},
   "outputs": [],
   "source": [
    "import matplotlib.pyplot as plt\n",
    "import numpy as np\n",
    "import pandas as pd\n",
    "import statsmodels.api as sm"
   ]
  },
  {
   "cell_type": "code",
   "execution_count": 6,
   "id": "ec96cc1f",
   "metadata": {},
   "outputs": [
    {
     "data": {
      "text/html": [
       "<div>\n",
       "<style scoped>\n",
       "    .dataframe tbody tr th:only-of-type {\n",
       "        vertical-align: middle;\n",
       "    }\n",
       "\n",
       "    .dataframe tbody tr th {\n",
       "        vertical-align: top;\n",
       "    }\n",
       "\n",
       "    .dataframe thead th {\n",
       "        text-align: right;\n",
       "    }\n",
       "</style>\n",
       "<table border=\"1\" class=\"dataframe\">\n",
       "  <thead>\n",
       "    <tr style=\"text-align: right;\">\n",
       "      <th></th>\n",
       "      <th>price</th>\n",
       "      <th>area</th>\n",
       "      <th>bedrooms</th>\n",
       "      <th>bathrooms</th>\n",
       "      <th>stories</th>\n",
       "    </tr>\n",
       "  </thead>\n",
       "  <tbody>\n",
       "    <tr>\n",
       "      <th>0</th>\n",
       "      <td>13300000</td>\n",
       "      <td>7420</td>\n",
       "      <td>4</td>\n",
       "      <td>2</td>\n",
       "      <td>3</td>\n",
       "    </tr>\n",
       "    <tr>\n",
       "      <th>1</th>\n",
       "      <td>12250000</td>\n",
       "      <td>8960</td>\n",
       "      <td>4</td>\n",
       "      <td>4</td>\n",
       "      <td>4</td>\n",
       "    </tr>\n",
       "    <tr>\n",
       "      <th>2</th>\n",
       "      <td>12250000</td>\n",
       "      <td>9960</td>\n",
       "      <td>3</td>\n",
       "      <td>2</td>\n",
       "      <td>2</td>\n",
       "    </tr>\n",
       "    <tr>\n",
       "      <th>3</th>\n",
       "      <td>12215000</td>\n",
       "      <td>7500</td>\n",
       "      <td>4</td>\n",
       "      <td>2</td>\n",
       "      <td>2</td>\n",
       "    </tr>\n",
       "    <tr>\n",
       "      <th>4</th>\n",
       "      <td>11410000</td>\n",
       "      <td>7420</td>\n",
       "      <td>4</td>\n",
       "      <td>1</td>\n",
       "      <td>2</td>\n",
       "    </tr>\n",
       "  </tbody>\n",
       "</table>\n",
       "</div>"
      ],
      "text/plain": [
       "      price  area  bedrooms  bathrooms  stories\n",
       "0  13300000  7420         4          2        3\n",
       "1  12250000  8960         4          4        4\n",
       "2  12250000  9960         3          2        2\n",
       "3  12215000  7500         4          2        2\n",
       "4  11410000  7420         4          1        2"
      ]
     },
     "execution_count": 6,
     "metadata": {},
     "output_type": "execute_result"
    }
   ],
   "source": [
    "housing = pd.read_csv('/Users/julioberrocal/Desktop/Classes/Winter 2024/Advanced Programming/OIM7502_SP24/data/Housing.csv')\n",
    "housing.head()"
   ]
  },
  {
   "cell_type": "code",
   "execution_count": 8,
   "id": "6708dbb6",
   "metadata": {},
   "outputs": [
    {
     "data": {
      "text/plain": [
       "count         545.00\n",
       "mean      4766729.25\n",
       "std       1870439.62\n",
       "min       1750000.00\n",
       "25%       3430000.00\n",
       "50%       4340000.00\n",
       "75%       5740000.00\n",
       "max      13300000.00\n",
       "Name: price, dtype: float64"
      ]
     },
     "execution_count": 8,
     "metadata": {},
     "output_type": "execute_result"
    }
   ],
   "source": [
    "housing['price'].describe().round(2)"
   ]
  },
  {
   "cell_type": "code",
   "execution_count": 10,
   "id": "8b797a57",
   "metadata": {},
   "outputs": [
    {
     "data": {
      "text/html": [
       "<div>\n",
       "<style scoped>\n",
       "    .dataframe tbody tr th:only-of-type {\n",
       "        vertical-align: middle;\n",
       "    }\n",
       "\n",
       "    .dataframe tbody tr th {\n",
       "        vertical-align: top;\n",
       "    }\n",
       "\n",
       "    .dataframe thead th {\n",
       "        text-align: right;\n",
       "    }\n",
       "</style>\n",
       "<table border=\"1\" class=\"dataframe\">\n",
       "  <thead>\n",
       "    <tr style=\"text-align: right;\">\n",
       "      <th></th>\n",
       "      <th>price</th>\n",
       "      <th>area</th>\n",
       "      <th>bedrooms</th>\n",
       "      <th>bathrooms</th>\n",
       "      <th>stories</th>\n",
       "    </tr>\n",
       "  </thead>\n",
       "  <tbody>\n",
       "    <tr>\n",
       "      <th>count</th>\n",
       "      <td>545.00</td>\n",
       "      <td>545.00</td>\n",
       "      <td>545.00</td>\n",
       "      <td>545.00</td>\n",
       "      <td>545.00</td>\n",
       "    </tr>\n",
       "    <tr>\n",
       "      <th>mean</th>\n",
       "      <td>4766729.25</td>\n",
       "      <td>5150.54</td>\n",
       "      <td>2.97</td>\n",
       "      <td>1.29</td>\n",
       "      <td>1.81</td>\n",
       "    </tr>\n",
       "    <tr>\n",
       "      <th>std</th>\n",
       "      <td>1870439.62</td>\n",
       "      <td>2170.14</td>\n",
       "      <td>0.74</td>\n",
       "      <td>0.50</td>\n",
       "      <td>0.87</td>\n",
       "    </tr>\n",
       "    <tr>\n",
       "      <th>min</th>\n",
       "      <td>1750000.00</td>\n",
       "      <td>1650.00</td>\n",
       "      <td>1.00</td>\n",
       "      <td>1.00</td>\n",
       "      <td>1.00</td>\n",
       "    </tr>\n",
       "    <tr>\n",
       "      <th>25%</th>\n",
       "      <td>3430000.00</td>\n",
       "      <td>3600.00</td>\n",
       "      <td>2.00</td>\n",
       "      <td>1.00</td>\n",
       "      <td>1.00</td>\n",
       "    </tr>\n",
       "    <tr>\n",
       "      <th>50%</th>\n",
       "      <td>4340000.00</td>\n",
       "      <td>4600.00</td>\n",
       "      <td>3.00</td>\n",
       "      <td>1.00</td>\n",
       "      <td>2.00</td>\n",
       "    </tr>\n",
       "    <tr>\n",
       "      <th>75%</th>\n",
       "      <td>5740000.00</td>\n",
       "      <td>6360.00</td>\n",
       "      <td>3.00</td>\n",
       "      <td>2.00</td>\n",
       "      <td>2.00</td>\n",
       "    </tr>\n",
       "    <tr>\n",
       "      <th>max</th>\n",
       "      <td>13300000.00</td>\n",
       "      <td>16200.00</td>\n",
       "      <td>6.00</td>\n",
       "      <td>4.00</td>\n",
       "      <td>4.00</td>\n",
       "    </tr>\n",
       "  </tbody>\n",
       "</table>\n",
       "</div>"
      ],
      "text/plain": [
       "             price      area  bedrooms  bathrooms  stories\n",
       "count       545.00    545.00    545.00     545.00   545.00\n",
       "mean    4766729.25   5150.54      2.97       1.29     1.81\n",
       "std     1870439.62   2170.14      0.74       0.50     0.87\n",
       "min     1750000.00   1650.00      1.00       1.00     1.00\n",
       "25%     3430000.00   3600.00      2.00       1.00     1.00\n",
       "50%     4340000.00   4600.00      3.00       1.00     2.00\n",
       "75%     5740000.00   6360.00      3.00       2.00     2.00\n",
       "max    13300000.00  16200.00      6.00       4.00     4.00"
      ]
     },
     "execution_count": 10,
     "metadata": {},
     "output_type": "execute_result"
    }
   ],
   "source": [
    "housing.describe().round(2)"
   ]
  },
  {
   "cell_type": "code",
   "execution_count": 11,
   "id": "bf1932ab",
   "metadata": {},
   "outputs": [
    {
     "data": {
      "text/html": [
       "<div>\n",
       "<style scoped>\n",
       "    .dataframe tbody tr th:only-of-type {\n",
       "        vertical-align: middle;\n",
       "    }\n",
       "\n",
       "    .dataframe tbody tr th {\n",
       "        vertical-align: top;\n",
       "    }\n",
       "\n",
       "    .dataframe thead th {\n",
       "        text-align: right;\n",
       "    }\n",
       "</style>\n",
       "<table border=\"1\" class=\"dataframe\">\n",
       "  <thead>\n",
       "    <tr style=\"text-align: right;\">\n",
       "      <th></th>\n",
       "      <th>price</th>\n",
       "      <th>area</th>\n",
       "      <th>bedrooms</th>\n",
       "      <th>bathrooms</th>\n",
       "      <th>stories</th>\n",
       "    </tr>\n",
       "  </thead>\n",
       "  <tbody>\n",
       "    <tr>\n",
       "      <th>price</th>\n",
       "      <td>1.000000</td>\n",
       "      <td>0.535997</td>\n",
       "      <td>0.366494</td>\n",
       "      <td>0.517545</td>\n",
       "      <td>0.420712</td>\n",
       "    </tr>\n",
       "    <tr>\n",
       "      <th>area</th>\n",
       "      <td>0.535997</td>\n",
       "      <td>1.000000</td>\n",
       "      <td>0.151858</td>\n",
       "      <td>0.193820</td>\n",
       "      <td>0.083996</td>\n",
       "    </tr>\n",
       "    <tr>\n",
       "      <th>bedrooms</th>\n",
       "      <td>0.366494</td>\n",
       "      <td>0.151858</td>\n",
       "      <td>1.000000</td>\n",
       "      <td>0.373930</td>\n",
       "      <td>0.408564</td>\n",
       "    </tr>\n",
       "    <tr>\n",
       "      <th>bathrooms</th>\n",
       "      <td>0.517545</td>\n",
       "      <td>0.193820</td>\n",
       "      <td>0.373930</td>\n",
       "      <td>1.000000</td>\n",
       "      <td>0.326165</td>\n",
       "    </tr>\n",
       "    <tr>\n",
       "      <th>stories</th>\n",
       "      <td>0.420712</td>\n",
       "      <td>0.083996</td>\n",
       "      <td>0.408564</td>\n",
       "      <td>0.326165</td>\n",
       "      <td>1.000000</td>\n",
       "    </tr>\n",
       "  </tbody>\n",
       "</table>\n",
       "</div>"
      ],
      "text/plain": [
       "              price      area  bedrooms  bathrooms   stories\n",
       "price      1.000000  0.535997  0.366494   0.517545  0.420712\n",
       "area       0.535997  1.000000  0.151858   0.193820  0.083996\n",
       "bedrooms   0.366494  0.151858  1.000000   0.373930  0.408564\n",
       "bathrooms  0.517545  0.193820  0.373930   1.000000  0.326165\n",
       "stories    0.420712  0.083996  0.408564   0.326165  1.000000"
      ]
     },
     "execution_count": 11,
     "metadata": {},
     "output_type": "execute_result"
    }
   ],
   "source": [
    "housing.corr()"
   ]
  },
  {
   "cell_type": "code",
   "execution_count": 12,
   "id": "2e0ae372",
   "metadata": {},
   "outputs": [],
   "source": [
    "data = housing.copy()"
   ]
  },
  {
   "cell_type": "code",
   "execution_count": 13,
   "id": "179c81a5",
   "metadata": {},
   "outputs": [],
   "source": [
    "data['price'] = data['price'] / 1000"
   ]
  },
  {
   "cell_type": "code",
   "execution_count": 14,
   "id": "54aaf71b",
   "metadata": {},
   "outputs": [
    {
     "data": {
      "text/html": [
       "<div>\n",
       "<style scoped>\n",
       "    .dataframe tbody tr th:only-of-type {\n",
       "        vertical-align: middle;\n",
       "    }\n",
       "\n",
       "    .dataframe tbody tr th {\n",
       "        vertical-align: top;\n",
       "    }\n",
       "\n",
       "    .dataframe thead th {\n",
       "        text-align: right;\n",
       "    }\n",
       "</style>\n",
       "<table border=\"1\" class=\"dataframe\">\n",
       "  <thead>\n",
       "    <tr style=\"text-align: right;\">\n",
       "      <th></th>\n",
       "      <th>price</th>\n",
       "      <th>area</th>\n",
       "      <th>bedrooms</th>\n",
       "      <th>bathrooms</th>\n",
       "      <th>stories</th>\n",
       "    </tr>\n",
       "  </thead>\n",
       "  <tbody>\n",
       "    <tr>\n",
       "      <th>price</th>\n",
       "      <td>1.000000</td>\n",
       "      <td>0.535997</td>\n",
       "      <td>0.366494</td>\n",
       "      <td>0.517545</td>\n",
       "      <td>0.420712</td>\n",
       "    </tr>\n",
       "    <tr>\n",
       "      <th>area</th>\n",
       "      <td>0.535997</td>\n",
       "      <td>1.000000</td>\n",
       "      <td>0.151858</td>\n",
       "      <td>0.193820</td>\n",
       "      <td>0.083996</td>\n",
       "    </tr>\n",
       "    <tr>\n",
       "      <th>bedrooms</th>\n",
       "      <td>0.366494</td>\n",
       "      <td>0.151858</td>\n",
       "      <td>1.000000</td>\n",
       "      <td>0.373930</td>\n",
       "      <td>0.408564</td>\n",
       "    </tr>\n",
       "    <tr>\n",
       "      <th>bathrooms</th>\n",
       "      <td>0.517545</td>\n",
       "      <td>0.193820</td>\n",
       "      <td>0.373930</td>\n",
       "      <td>1.000000</td>\n",
       "      <td>0.326165</td>\n",
       "    </tr>\n",
       "    <tr>\n",
       "      <th>stories</th>\n",
       "      <td>0.420712</td>\n",
       "      <td>0.083996</td>\n",
       "      <td>0.408564</td>\n",
       "      <td>0.326165</td>\n",
       "      <td>1.000000</td>\n",
       "    </tr>\n",
       "  </tbody>\n",
       "</table>\n",
       "</div>"
      ],
      "text/plain": [
       "              price      area  bedrooms  bathrooms   stories\n",
       "price      1.000000  0.535997  0.366494   0.517545  0.420712\n",
       "area       0.535997  1.000000  0.151858   0.193820  0.083996\n",
       "bedrooms   0.366494  0.151858  1.000000   0.373930  0.408564\n",
       "bathrooms  0.517545  0.193820  0.373930   1.000000  0.326165\n",
       "stories    0.420712  0.083996  0.408564   0.326165  1.000000"
      ]
     },
     "execution_count": 14,
     "metadata": {},
     "output_type": "execute_result"
    }
   ],
   "source": [
    "data.corr()"
   ]
  },
  {
   "cell_type": "code",
   "execution_count": 15,
   "id": "a701af81",
   "metadata": {},
   "outputs": [
    {
     "name": "stdout",
     "output_type": "stream",
     "text": [
      "<class 'pandas.core.frame.DataFrame'>\n",
      "RangeIndex: 545 entries, 0 to 544\n",
      "Data columns (total 5 columns):\n",
      " #   Column     Non-Null Count  Dtype  \n",
      "---  ------     --------------  -----  \n",
      " 0   price      545 non-null    float64\n",
      " 1   area       545 non-null    int64  \n",
      " 2   bedrooms   545 non-null    int64  \n",
      " 3   bathrooms  545 non-null    int64  \n",
      " 4   stories    545 non-null    int64  \n",
      "dtypes: float64(1), int64(4)\n",
      "memory usage: 21.4 KB\n"
     ]
    }
   ],
   "source": [
    "data.info()"
   ]
  },
  {
   "cell_type": "code",
   "execution_count": 17,
   "id": "1c0c3663",
   "metadata": {},
   "outputs": [
    {
     "data": {
      "image/png": "[encoded data removed]",
      "text/plain": [
       "<Figure size 640x480 with 1 Axes>"
      ]
     },
     "metadata": {},
     "output_type": "display_data"
    }
   ],
   "source": [
    "plt.hist(data['price']);"
   ]
  },
  {
   "cell_type": "code",
   "execution_count": 18,
   "id": "5cb6f29f",
   "metadata": {},
   "outputs": [
    {
     "data": {
      "image/png": "[encoded data removed]",
      "text/plain": [
       "<Figure size 640x480 with 1 Axes>"
      ]
     },
     "metadata": {},
     "output_type": "display_data"
    }
   ],
   "source": [
    "plt.hist(data['area']);"
   ]
  },
  {
   "cell_type": "code",
   "execution_count": 21,
   "id": "bedda68a",
   "metadata": {},
   "outputs": [
    {
     "data": {
      "image/png": "[encoded data removed]",
      "text/plain": [
       "<Figure size 640x480 with 1 Axes>"
      ]
     },
     "metadata": {},
     "output_type": "display_data"
    }
   ],
   "source": [
    "plt.boxplot(data['price']);"
   ]
  },
  {
   "cell_type": "code",
   "execution_count": 26,
   "id": "c983bdb5",
   "metadata": {},
   "outputs": [],
   "source": [
    "data_9 = data[data['price'] < 8.5e3]"
   ]
  },
  {
   "cell_type": "code",
   "execution_count": 27,
   "id": "164ff4b1",
   "metadata": {},
   "outputs": [
    {
     "data": {
      "text/html": [
       "<div>\n",
       "<style scoped>\n",
       "    .dataframe tbody tr th:only-of-type {\n",
       "        vertical-align: middle;\n",
       "    }\n",
       "\n",
       "    .dataframe tbody tr th {\n",
       "        vertical-align: top;\n",
       "    }\n",
       "\n",
       "    .dataframe thead th {\n",
       "        text-align: right;\n",
       "    }\n",
       "</style>\n",
       "<table border=\"1\" class=\"dataframe\">\n",
       "  <thead>\n",
       "    <tr style=\"text-align: right;\">\n",
       "      <th></th>\n",
       "      <th>price</th>\n",
       "      <th>area</th>\n",
       "      <th>bedrooms</th>\n",
       "      <th>bathrooms</th>\n",
       "      <th>stories</th>\n",
       "    </tr>\n",
       "  </thead>\n",
       "  <tbody>\n",
       "    <tr>\n",
       "      <th>count</th>\n",
       "      <td>519.000000</td>\n",
       "      <td>519.000000</td>\n",
       "      <td>519.000000</td>\n",
       "      <td>519.000000</td>\n",
       "      <td>519.000000</td>\n",
       "    </tr>\n",
       "    <tr>\n",
       "      <th>mean</th>\n",
       "      <td>4511.775414</td>\n",
       "      <td>5030.944123</td>\n",
       "      <td>2.936416</td>\n",
       "      <td>1.250482</td>\n",
       "      <td>1.784200</td>\n",
       "    </tr>\n",
       "    <tr>\n",
       "      <th>std</th>\n",
       "      <td>1489.800087</td>\n",
       "      <td>2075.212615</td>\n",
       "      <td>0.733771</td>\n",
       "      <td>0.459640</td>\n",
       "      <td>0.863045</td>\n",
       "    </tr>\n",
       "    <tr>\n",
       "      <th>min</th>\n",
       "      <td>1750.000000</td>\n",
       "      <td>1650.000000</td>\n",
       "      <td>1.000000</td>\n",
       "      <td>1.000000</td>\n",
       "      <td>1.000000</td>\n",
       "    </tr>\n",
       "    <tr>\n",
       "      <th>25%</th>\n",
       "      <td>3409.000000</td>\n",
       "      <td>3520.000000</td>\n",
       "      <td>2.000000</td>\n",
       "      <td>1.000000</td>\n",
       "      <td>1.000000</td>\n",
       "    </tr>\n",
       "    <tr>\n",
       "      <th>50%</th>\n",
       "      <td>4235.000000</td>\n",
       "      <td>4500.000000</td>\n",
       "      <td>3.000000</td>\n",
       "      <td>1.000000</td>\n",
       "      <td>2.000000</td>\n",
       "    </tr>\n",
       "    <tr>\n",
       "      <th>75%</th>\n",
       "      <td>5526.500000</td>\n",
       "      <td>6155.000000</td>\n",
       "      <td>3.000000</td>\n",
       "      <td>1.000000</td>\n",
       "      <td>2.000000</td>\n",
       "    </tr>\n",
       "    <tr>\n",
       "      <th>max</th>\n",
       "      <td>8463.000000</td>\n",
       "      <td>15600.000000</td>\n",
       "      <td>6.000000</td>\n",
       "      <td>3.000000</td>\n",
       "      <td>4.000000</td>\n",
       "    </tr>\n",
       "  </tbody>\n",
       "</table>\n",
       "</div>"
      ],
      "text/plain": [
       "             price          area    bedrooms   bathrooms     stories\n",
       "count   519.000000    519.000000  519.000000  519.000000  519.000000\n",
       "mean   4511.775414   5030.944123    2.936416    1.250482    1.784200\n",
       "std    1489.800087   2075.212615    0.733771    0.459640    0.863045\n",
       "min    1750.000000   1650.000000    1.000000    1.000000    1.000000\n",
       "25%    3409.000000   3520.000000    2.000000    1.000000    1.000000\n",
       "50%    4235.000000   4500.000000    3.000000    1.000000    2.000000\n",
       "75%    5526.500000   6155.000000    3.000000    1.000000    2.000000\n",
       "max    8463.000000  15600.000000    6.000000    3.000000    4.000000"
      ]
     },
     "execution_count": 27,
     "metadata": {},
     "output_type": "execute_result"
    }
   ],
   "source": [
    "data_9.describe()"
   ]
  },
  {
   "cell_type": "code",
   "execution_count": 28,
   "id": "6f541536",
   "metadata": {},
   "outputs": [
    {
     "data": {
      "image/png": "[encoded data removed]",
      "text/plain": [
       "<Figure size 640x480 with 1 Axes>"
      ]
     },
     "metadata": {},
     "output_type": "display_data"
    }
   ],
   "source": [
    "plt.boxplot(data_9['price']);"
   ]
  },
  {
   "cell_type": "code",
   "execution_count": 30,
   "id": "b02acf09",
   "metadata": {},
   "outputs": [
    {
     "data": {
      "image/png": "[encoded data removed]",
      "text/plain": [
       "<Figure size 640x480 with 1 Axes>"
      ]
     },
     "metadata": {},
     "output_type": "display_data"
    }
   ],
   "source": [
    "plt.hist(data_9['price']);"
   ]
  },
  {
   "cell_type": "code",
   "execution_count": 31,
   "id": "f96ef12b",
   "metadata": {},
   "outputs": [
    {
     "data": {
      "image/png": "[encoded data removed]",
      "text/plain": [
       "<Figure size 640x480 with 1 Axes>"
      ]
     },
     "metadata": {},
     "output_type": "display_data"
    }
   ],
   "source": [
    "plt.scatter(data['area'],data['price']);"
   ]
  },
  {
   "cell_type": "code",
   "execution_count": 32,
   "id": "13fd1e5b",
   "metadata": {},
   "outputs": [
    {
     "data": {
      "text/html": [
       "<div>\n",
       "<style scoped>\n",
       "    .dataframe tbody tr th:only-of-type {\n",
       "        vertical-align: middle;\n",
       "    }\n",
       "\n",
       "    .dataframe tbody tr th {\n",
       "        vertical-align: top;\n",
       "    }\n",
       "\n",
       "    .dataframe thead th {\n",
       "        text-align: right;\n",
       "    }\n",
       "</style>\n",
       "<table border=\"1\" class=\"dataframe\">\n",
       "  <thead>\n",
       "    <tr style=\"text-align: right;\">\n",
       "      <th></th>\n",
       "      <th>const</th>\n",
       "      <th>area</th>\n",
       "    </tr>\n",
       "  </thead>\n",
       "  <tbody>\n",
       "    <tr>\n",
       "      <th>0</th>\n",
       "      <td>1.0</td>\n",
       "      <td>7420</td>\n",
       "    </tr>\n",
       "    <tr>\n",
       "      <th>1</th>\n",
       "      <td>1.0</td>\n",
       "      <td>8960</td>\n",
       "    </tr>\n",
       "    <tr>\n",
       "      <th>2</th>\n",
       "      <td>1.0</td>\n",
       "      <td>9960</td>\n",
       "    </tr>\n",
       "    <tr>\n",
       "      <th>3</th>\n",
       "      <td>1.0</td>\n",
       "      <td>7500</td>\n",
       "    </tr>\n",
       "    <tr>\n",
       "      <th>4</th>\n",
       "      <td>1.0</td>\n",
       "      <td>7420</td>\n",
       "    </tr>\n",
       "  </tbody>\n",
       "</table>\n",
       "</div>"
      ],
      "text/plain": [
       "   const  area\n",
       "0    1.0  7420\n",
       "1    1.0  8960\n",
       "2    1.0  9960\n",
       "3    1.0  7500\n",
       "4    1.0  7420"
      ]
     },
     "execution_count": 32,
     "metadata": {},
     "output_type": "execute_result"
    }
   ],
   "source": [
    "y = data['price']\n",
    "x = data['area']\n",
    "x = sm.add_constant(x)\n",
    "\n",
    "x.head()"
   ]
  },
  {
   "cell_type": "code",
   "execution_count": 34,
   "id": "1e915657",
   "metadata": {},
   "outputs": [
    {
     "data": {
      "text/html": [
       "<table class=\"simpletable\">\n",
       "<caption>OLS Regression Results</caption>\n",
       "<tr>\n",
       "  <th>Dep. Variable:</th>          <td>price</td>      <th>  R-squared:         </th> <td>   0.287</td>\n",
       "</tr>\n",
       "<tr>\n",
       "  <th>Model:</th>                   <td>OLS</td>       <th>  Adj. R-squared:    </th> <td>   0.286</td>\n",
       "</tr>\n",
       "<tr>\n",
       "  <th>Method:</th>             <td>Least Squares</td>  <th>  F-statistic:       </th> <td>   218.9</td>\n",
       "</tr>\n",
       "<tr>\n",
       "  <th>Date:</th>             <td>Wed, 14 Feb 2024</td> <th>  Prob (F-statistic):</th> <td>7.39e-42</td>\n",
       "</tr>\n",
       "<tr>\n",
       "  <th>Time:</th>                 <td>16:17:21</td>     <th>  Log-Likelihood:    </th> <td> -4786.5</td>\n",
       "</tr>\n",
       "<tr>\n",
       "  <th>No. Observations:</th>      <td>   545</td>      <th>  AIC:               </th> <td>   9577.</td>\n",
       "</tr>\n",
       "<tr>\n",
       "  <th>Df Residuals:</th>          <td>   543</td>      <th>  BIC:               </th> <td>   9586.</td>\n",
       "</tr>\n",
       "<tr>\n",
       "  <th>Df Model:</th>              <td>     1</td>      <th>                     </th>     <td> </td>   \n",
       "</tr>\n",
       "<tr>\n",
       "  <th>Covariance Type:</th>      <td>nonrobust</td>    <th>                     </th>     <td> </td>   \n",
       "</tr>\n",
       "</table>\n",
       "<table class=\"simpletable\">\n",
       "<tr>\n",
       "    <td></td>       <th>coef</th>     <th>std err</th>      <th>t</th>      <th>P>|t|</th>  <th>[0.025</th>    <th>0.975]</th>  \n",
       "</tr>\n",
       "<tr>\n",
       "  <th>const</th> <td> 2387.3085</td> <td>  174.498</td> <td>   13.681</td> <td> 0.000</td> <td> 2044.535</td> <td> 2730.082</td>\n",
       "</tr>\n",
       "<tr>\n",
       "  <th>area</th>  <td>    0.4620</td> <td>    0.031</td> <td>   14.795</td> <td> 0.000</td> <td>    0.401</td> <td>    0.523</td>\n",
       "</tr>\n",
       "</table>\n",
       "<table class=\"simpletable\">\n",
       "<tr>\n",
       "  <th>Omnibus:</th>       <td>92.668</td> <th>  Durbin-Watson:     </th> <td>   0.565</td>\n",
       "</tr>\n",
       "<tr>\n",
       "  <th>Prob(Omnibus):</th> <td> 0.000</td> <th>  Jarque-Bera (JB):  </th> <td> 183.673</td>\n",
       "</tr>\n",
       "<tr>\n",
       "  <th>Skew:</th>          <td> 0.954</td> <th>  Prob(JB):          </th> <td>1.31e-40</td>\n",
       "</tr>\n",
       "<tr>\n",
       "  <th>Kurtosis:</th>      <td> 5.108</td> <th>  Cond. No.          </th> <td>1.44e+04</td>\n",
       "</tr>\n",
       "</table><br/><br/>Notes:<br/>[1] Standard Errors assume that the covariance matrix of the errors is correctly specified.<br/>[2] The condition number is large, 1.44e+04. This might indicate that there are<br/>strong multicollinearity or other numerical problems."
      ],
      "text/latex": [
       "\\begin{center}\n",
       "\\begin{tabular}{lclc}\n",
       "\\toprule\n",
       "\\textbf{Dep. Variable:}    &      price       & \\textbf{  R-squared:         } &     0.287   \\\\\n",
       "\\textbf{Model:}            &       OLS        & \\textbf{  Adj. R-squared:    } &     0.286   \\\\\n",
       "\\textbf{Method:}           &  Least Squares   & \\textbf{  F-statistic:       } &     218.9   \\\\\n",
       "\\textbf{Date:}             & Wed, 14 Feb 2024 & \\textbf{  Prob (F-statistic):} &  7.39e-42   \\\\\n",
       "\\textbf{Time:}             &     16:17:21     & \\textbf{  Log-Likelihood:    } &   -4786.5   \\\\\n",
       "\\textbf{No. Observations:} &         545      & \\textbf{  AIC:               } &     9577.   \\\\\n",
       "\\textbf{Df Residuals:}     &         543      & \\textbf{  BIC:               } &     9586.   \\\\\n",
       "\\textbf{Df Model:}         &           1      & \\textbf{                     } &             \\\\\n",
       "\\textbf{Covariance Type:}  &    nonrobust     & \\textbf{                     } &             \\\\\n",
       "\\bottomrule\n",
       "\\end{tabular}\n",
       "\\begin{tabular}{lcccccc}\n",
       "               & \\textbf{coef} & \\textbf{std err} & \\textbf{t} & \\textbf{P$> |$t$|$} & \\textbf{[0.025} & \\textbf{0.975]}  \\\\\n",
       "\\midrule\n",
       "\\textbf{const} &    2387.3085  &      174.498     &    13.681  &         0.000        &     2044.535    &     2730.082     \\\\\n",
       "\\textbf{area}  &       0.4620  &        0.031     &    14.795  &         0.000        &        0.401    &        0.523     \\\\\n",
       "\\bottomrule\n",
       "\\end{tabular}\n",
       "\\begin{tabular}{lclc}\n",
       "\\textbf{Omnibus:}       & 92.668 & \\textbf{  Durbin-Watson:     } &    0.565  \\\\\n",
       "\\textbf{Prob(Omnibus):} &  0.000 & \\textbf{  Jarque-Bera (JB):  } &  183.673  \\\\\n",
       "\\textbf{Skew:}          &  0.954 & \\textbf{  Prob(JB):          } & 1.31e-40  \\\\\n",
       "\\textbf{Kurtosis:}      &  5.108 & \\textbf{  Cond. No.          } & 1.44e+04  \\\\\n",
       "\\bottomrule\n",
       "\\end{tabular}\n",
       "%\\caption{OLS Regression Results}\n",
       "\\end{center}\n",
       "\n",
       "Notes: \\newline\n",
       " [1] Standard Errors assume that the covariance matrix of the errors is correctly specified. \\newline\n",
       " [2] The condition number is large, 1.44e+04. This might indicate that there are \\newline\n",
       " strong multicollinearity or other numerical problems."
      ],
      "text/plain": [
       "<class 'statsmodels.iolib.summary.Summary'>\n",
       "\"\"\"\n",
       "                            OLS Regression Results                            \n",
       "==============================================================================\n",
       "Dep. Variable:                  price   R-squared:                       0.287\n",
       "Model:                            OLS   Adj. R-squared:                  0.286\n",
       "Method:                 Least Squares   F-statistic:                     218.9\n",
       "Date:                Wed, 14 Feb 2024   Prob (F-statistic):           7.39e-42\n",
       "Time:                        16:17:21   Log-Likelihood:                -4786.5\n",
       "No. Observations:                 545   AIC:                             9577.\n",
       "Df Residuals:                     543   BIC:                             9586.\n",
       "Df Model:                           1                                         \n",
       "Covariance Type:            nonrobust                                         \n",
       "==============================================================================\n",
       "                 coef    std err          t      P>|t|      [0.025      0.975]\n",
       "------------------------------------------------------------------------------\n",
       "const       2387.3085    174.498     13.681      0.000    2044.535    2730.082\n",
       "area           0.4620      0.031     14.795      0.000       0.401       0.523\n",
       "==============================================================================\n",
       "Omnibus:                       92.668   Durbin-Watson:                   0.565\n",
       "Prob(Omnibus):                  0.000   Jarque-Bera (JB):              183.673\n",
       "Skew:                           0.954   Prob(JB):                     1.31e-40\n",
       "Kurtosis:                       5.108   Cond. No.                     1.44e+04\n",
       "==============================================================================\n",
       "\n",
       "Notes:\n",
       "[1] Standard Errors assume that the covariance matrix of the errors is correctly specified.\n",
       "[2] The condition number is large, 1.44e+04. This might indicate that there are\n",
       "strong multicollinearity or other numerical problems.\n",
       "\"\"\""
      ]
     },
     "execution_count": 34,
     "metadata": {},
     "output_type": "execute_result"
    }
   ],
   "source": [
    "model = sm.OLS(y,x).fit()\n",
    "model.summary()"
   ]
  },
  {
   "cell_type": "code",
   "execution_count": 35,
   "id": "9511de02",
   "metadata": {},
   "outputs": [
    {
     "data": {
      "text/plain": [
       "1577.6125627607867"
      ]
     },
     "execution_count": 35,
     "metadata": {},
     "output_type": "execute_result"
    }
   ],
   "source": [
    "np.sqrt(((y - model.predict(x)) ** 2).mean())"
   ]
  },
  {
   "cell_type": "code",
   "execution_count": 36,
   "id": "ed6a1b5b",
   "metadata": {},
   "outputs": [
    {
     "data": {
      "text/plain": [
       "0      5815.162198\n",
       "1      6526.603535\n",
       "2      6988.578429\n",
       "3      5852.120189\n",
       "4      5815.162198\n",
       "          ...     \n",
       "540    3773.233165\n",
       "541    3496.048229\n",
       "542    4059.657600\n",
       "543    3731.655425\n",
       "544    4165.911825\n",
       "Length: 545, dtype: float64"
      ]
     },
     "execution_count": 36,
     "metadata": {},
     "output_type": "execute_result"
    }
   ],
   "source": [
    "model.predict(x)"
   ]
  },
  {
   "cell_type": "code",
   "execution_count": 37,
   "id": "9266f17c",
   "metadata": {},
   "outputs": [
    {
     "data": {
      "text/plain": [
       "0      13300.00\n",
       "1      12250.00\n",
       "2      12250.00\n",
       "3      12215.00\n",
       "4      11410.00\n",
       "         ...   \n",
       "540     1820.00\n",
       "541     1767.15\n",
       "542     1750.00\n",
       "543     1750.00\n",
       "544     1750.00\n",
       "Name: price, Length: 545, dtype: float64"
      ]
     },
     "execution_count": 37,
     "metadata": {},
     "output_type": "execute_result"
    }
   ],
   "source": [
    "data['price']"
   ]
  },
  {
   "cell_type": "code",
   "execution_count": 39,
   "id": "14a24b8c",
   "metadata": {},
   "outputs": [],
   "source": [
    "y = housing['price']\n",
    "x = housing[['area', 'bedrooms', 'bathrooms', 'stories']]\n",
    "x = sm.add_constant(x)\n"
   ]
  },
  {
   "cell_type": "code",
   "execution_count": 40,
   "id": "f1fabfde",
   "metadata": {},
   "outputs": [
    {
     "data": {
      "text/html": [
       "<table class=\"simpletable\">\n",
       "<caption>OLS Regression Results</caption>\n",
       "<tr>\n",
       "  <th>Dep. Variable:</th>          <td>price</td>      <th>  R-squared:         </th> <td>   0.536</td> \n",
       "</tr>\n",
       "<tr>\n",
       "  <th>Model:</th>                   <td>OLS</td>       <th>  Adj. R-squared:    </th> <td>   0.532</td> \n",
       "</tr>\n",
       "<tr>\n",
       "  <th>Method:</th>             <td>Least Squares</td>  <th>  F-statistic:       </th> <td>   155.7</td> \n",
       "</tr>\n",
       "<tr>\n",
       "  <th>Date:</th>             <td>Wed, 14 Feb 2024</td> <th>  Prob (F-statistic):</th> <td>1.68e-88</td> \n",
       "</tr>\n",
       "<tr>\n",
       "  <th>Time:</th>                 <td>16:29:54</td>     <th>  Log-Likelihood:    </th> <td> -8434.5</td> \n",
       "</tr>\n",
       "<tr>\n",
       "  <th>No. Observations:</th>      <td>   545</td>      <th>  AIC:               </th> <td>1.688e+04</td>\n",
       "</tr>\n",
       "<tr>\n",
       "  <th>Df Residuals:</th>          <td>   540</td>      <th>  BIC:               </th> <td>1.690e+04</td>\n",
       "</tr>\n",
       "<tr>\n",
       "  <th>Df Model:</th>              <td>     4</td>      <th>                     </th>     <td> </td>    \n",
       "</tr>\n",
       "<tr>\n",
       "  <th>Covariance Type:</th>      <td>nonrobust</td>    <th>                     </th>     <td> </td>    \n",
       "</tr>\n",
       "</table>\n",
       "<table class=\"simpletable\">\n",
       "<tr>\n",
       "      <td></td>         <th>coef</th>     <th>std err</th>      <th>t</th>      <th>P>|t|</th>  <th>[0.025</th>    <th>0.975]</th>  \n",
       "</tr>\n",
       "<tr>\n",
       "  <th>const</th>     <td>-2.821e+05</td> <td> 2.52e+05</td> <td>   -1.118</td> <td> 0.264</td> <td>-7.78e+05</td> <td> 2.14e+05</td>\n",
       "</tr>\n",
       "<tr>\n",
       "  <th>area</th>      <td>  380.0244</td> <td>   25.864</td> <td>   14.693</td> <td> 0.000</td> <td>  329.219</td> <td>  430.830</td>\n",
       "</tr>\n",
       "<tr>\n",
       "  <th>bedrooms</th>  <td> 1.983e+05</td> <td> 8.51e+04</td> <td>    2.330</td> <td> 0.020</td> <td> 3.11e+04</td> <td> 3.65e+05</td>\n",
       "</tr>\n",
       "<tr>\n",
       "  <th>bathrooms</th> <td>   1.2e+06</td> <td> 1.22e+05</td> <td>    9.871</td> <td> 0.000</td> <td> 9.61e+05</td> <td> 1.44e+06</td>\n",
       "</tr>\n",
       "<tr>\n",
       "  <th>stories</th>   <td> 5.316e+05</td> <td> 7.08e+04</td> <td>    7.511</td> <td> 0.000</td> <td> 3.93e+05</td> <td> 6.71e+05</td>\n",
       "</tr>\n",
       "</table>\n",
       "<table class=\"simpletable\">\n",
       "<tr>\n",
       "  <th>Omnibus:</th>       <td>94.932</td> <th>  Durbin-Watson:     </th> <td>   1.043</td>\n",
       "</tr>\n",
       "<tr>\n",
       "  <th>Prob(Omnibus):</th> <td> 0.000</td> <th>  Jarque-Bera (JB):  </th> <td> 232.104</td>\n",
       "</tr>\n",
       "<tr>\n",
       "  <th>Skew:</th>          <td> 0.895</td> <th>  Prob(JB):          </th> <td>3.97e-51</td>\n",
       "</tr>\n",
       "<tr>\n",
       "  <th>Kurtosis:</th>      <td> 5.649</td> <th>  Cond. No.          </th> <td>2.64e+04</td>\n",
       "</tr>\n",
       "</table><br/><br/>Notes:<br/>[1] Standard Errors assume that the covariance matrix of the errors is correctly specified.<br/>[2] The condition number is large, 2.64e+04. This might indicate that there are<br/>strong multicollinearity or other numerical problems."
      ],
      "text/latex": [
       "\\begin{center}\n",
       "\\begin{tabular}{lclc}\n",
       "\\toprule\n",
       "\\textbf{Dep. Variable:}    &      price       & \\textbf{  R-squared:         } &     0.536   \\\\\n",
       "\\textbf{Model:}            &       OLS        & \\textbf{  Adj. R-squared:    } &     0.532   \\\\\n",
       "\\textbf{Method:}           &  Least Squares   & \\textbf{  F-statistic:       } &     155.7   \\\\\n",
       "\\textbf{Date:}             & Wed, 14 Feb 2024 & \\textbf{  Prob (F-statistic):} &  1.68e-88   \\\\\n",
       "\\textbf{Time:}             &     16:29:54     & \\textbf{  Log-Likelihood:    } &   -8434.5   \\\\\n",
       "\\textbf{No. Observations:} &         545      & \\textbf{  AIC:               } & 1.688e+04   \\\\\n",
       "\\textbf{Df Residuals:}     &         540      & \\textbf{  BIC:               } & 1.690e+04   \\\\\n",
       "\\textbf{Df Model:}         &           4      & \\textbf{                     } &             \\\\\n",
       "\\textbf{Covariance Type:}  &    nonrobust     & \\textbf{                     } &             \\\\\n",
       "\\bottomrule\n",
       "\\end{tabular}\n",
       "\\begin{tabular}{lcccccc}\n",
       "                   & \\textbf{coef} & \\textbf{std err} & \\textbf{t} & \\textbf{P$> |$t$|$} & \\textbf{[0.025} & \\textbf{0.975]}  \\\\\n",
       "\\midrule\n",
       "\\textbf{const}     &   -2.821e+05  &     2.52e+05     &    -1.118  &         0.264        &    -7.78e+05    &     2.14e+05     \\\\\n",
       "\\textbf{area}      &     380.0244  &       25.864     &    14.693  &         0.000        &      329.219    &      430.830     \\\\\n",
       "\\textbf{bedrooms}  &    1.983e+05  &     8.51e+04     &     2.330  &         0.020        &     3.11e+04    &     3.65e+05     \\\\\n",
       "\\textbf{bathrooms} &      1.2e+06  &     1.22e+05     &     9.871  &         0.000        &     9.61e+05    &     1.44e+06     \\\\\n",
       "\\textbf{stories}   &    5.316e+05  &     7.08e+04     &     7.511  &         0.000        &     3.93e+05    &     6.71e+05     \\\\\n",
       "\\bottomrule\n",
       "\\end{tabular}\n",
       "\\begin{tabular}{lclc}\n",
       "\\textbf{Omnibus:}       & 94.932 & \\textbf{  Durbin-Watson:     } &    1.043  \\\\\n",
       "\\textbf{Prob(Omnibus):} &  0.000 & \\textbf{  Jarque-Bera (JB):  } &  232.104  \\\\\n",
       "\\textbf{Skew:}          &  0.895 & \\textbf{  Prob(JB):          } & 3.97e-51  \\\\\n",
       "\\textbf{Kurtosis:}      &  5.649 & \\textbf{  Cond. No.          } & 2.64e+04  \\\\\n",
       "\\bottomrule\n",
       "\\end{tabular}\n",
       "%\\caption{OLS Regression Results}\n",
       "\\end{center}\n",
       "\n",
       "Notes: \\newline\n",
       " [1] Standard Errors assume that the covariance matrix of the errors is correctly specified. \\newline\n",
       " [2] The condition number is large, 2.64e+04. This might indicate that there are \\newline\n",
       " strong multicollinearity or other numerical problems."
      ],
      "text/plain": [
       "<class 'statsmodels.iolib.summary.Summary'>\n",
       "\"\"\"\n",
       "                            OLS Regression Results                            \n",
       "==============================================================================\n",
       "Dep. Variable:                  price   R-squared:                       0.536\n",
       "Model:                            OLS   Adj. R-squared:                  0.532\n",
       "Method:                 Least Squares   F-statistic:                     155.7\n",
       "Date:                Wed, 14 Feb 2024   Prob (F-statistic):           1.68e-88\n",
       "Time:                        16:29:54   Log-Likelihood:                -8434.5\n",
       "No. Observations:                 545   AIC:                         1.688e+04\n",
       "Df Residuals:                     540   BIC:                         1.690e+04\n",
       "Df Model:                           4                                         \n",
       "Covariance Type:            nonrobust                                         \n",
       "==============================================================================\n",
       "                 coef    std err          t      P>|t|      [0.025      0.975]\n",
       "------------------------------------------------------------------------------\n",
       "const      -2.821e+05   2.52e+05     -1.118      0.264   -7.78e+05    2.14e+05\n",
       "area         380.0244     25.864     14.693      0.000     329.219     430.830\n",
       "bedrooms    1.983e+05   8.51e+04      2.330      0.020    3.11e+04    3.65e+05\n",
       "bathrooms     1.2e+06   1.22e+05      9.871      0.000    9.61e+05    1.44e+06\n",
       "stories     5.316e+05   7.08e+04      7.511      0.000    3.93e+05    6.71e+05\n",
       "==============================================================================\n",
       "Omnibus:                       94.932   Durbin-Watson:                   1.043\n",
       "Prob(Omnibus):                  0.000   Jarque-Bera (JB):              232.104\n",
       "Skew:                           0.895   Prob(JB):                     3.97e-51\n",
       "Kurtosis:                       5.649   Cond. No.                     2.64e+04\n",
       "==============================================================================\n",
       "\n",
       "Notes:\n",
       "[1] Standard Errors assume that the covariance matrix of the errors is correctly specified.\n",
       "[2] The condition number is large, 2.64e+04. This might indicate that there are\n",
       "strong multicollinearity or other numerical problems.\n",
       "\"\"\""
      ]
     },
     "execution_count": 40,
     "metadata": {},
     "output_type": "execute_result"
    }
   ],
   "source": [
    "model = sm.OLS(y,x).fit()\n",
    "model.summary()"
   ]
  },
  {
   "cell_type": "code",
   "execution_count": null,
   "id": "8edb0570",
   "metadata": {},
   "outputs": [],
   "source": []
  },
  {
   "cell_type": "markdown",
   "id": "8767e21c",
   "metadata": {},
   "source": [
    "### sklearn"
   ]
  },
  {
   "cell_type": "code",
   "execution_count": 45,
   "id": "029f13a6",
   "metadata": {},
   "outputs": [],
   "source": [
    "#%pip install scikit-learn\n",
    "\n",
    "from sklearn import datasets, linear_model\n",
    "from sklearn.metrics import mean_squared_error, r2_score"
   ]
  },
  {
   "cell_type": "code",
   "execution_count": 46,
   "id": "d2c3dfdc",
   "metadata": {},
   "outputs": [],
   "source": [
    "reg = linear_model.LinearRegression()"
   ]
  },
  {
   "cell_type": "code",
   "execution_count": null,
   "id": "d0e236b4",
   "metadata": {},
   "outputs": [],
   "source": []
  },
  {
   "cell_type": "code",
   "execution_count": null,
   "id": "26b874ed",
   "metadata": {},
   "outputs": [],
   "source": []
  },
  {
   "cell_type": "code",
   "execution_count": null,
   "id": "b420928d",
   "metadata": {},
   "outputs": [],
   "source": [
    "\n"
   ]
  },
  {
   "cell_type": "code",
   "execution_count": null,
   "id": "304aa876",
   "metadata": {},
   "outputs": [],
   "source": []
  },
  {
   "cell_type": "code",
   "execution_count": null,
   "id": "83b679da",
   "metadata": {},
   "outputs": [],
   "source": []
  },
  {
   "cell_type": "code",
   "execution_count": null,
   "id": "254d7d50",
   "metadata": {},
   "outputs": [],
   "source": []
  },
  {
   "cell_type": "code",
   "execution_count": 7,
   "id": "757babf3",
   "metadata": {},
   "outputs": [],
   "source": []
  },
  {
   "cell_type": "code",
   "execution_count": 119,
   "id": "286192bf",
   "metadata": {},
   "outputs": [],
   "source": [
    "from sklearn.preprocessing import StandardScaler, MinMaxScaler, MaxAbsScaler"
   ]
  },
  {
   "cell_type": "code",
   "execution_count": null,
   "id": "7defa64c",
   "metadata": {},
   "outputs": [],
   "source": []
  },
  {
   "cell_type": "code",
   "execution_count": null,
   "id": "afd40678",
   "metadata": {},
   "outputs": [],
   "source": []
  },
  {
   "cell_type": "code",
   "execution_count": null,
   "id": "1e641588",
   "metadata": {},
   "outputs": [],
   "source": []
  },
  {
   "cell_type": "code",
   "execution_count": null,
   "id": "7a86e90e",
   "metadata": {},
   "outputs": [],
   "source": []
  },
  {
   "cell_type": "code",
   "execution_count": null,
   "id": "17efd201",
   "metadata": {},
   "outputs": [],
   "source": []
  },
  {
   "cell_type": "code",
   "execution_count": null,
   "id": "bce4e9ff",
   "metadata": {},
   "outputs": [],
   "source": []
  },
  {
   "cell_type": "code",
   "execution_count": null,
   "id": "23b9c1ff",
   "metadata": {},
   "outputs": [],
   "source": []
  },
  {
   "cell_type": "code",
   "execution_count": null,
   "id": "6f03ff6f",
   "metadata": {},
   "outputs": [],
   "source": []
  },
  {
   "cell_type": "code",
   "execution_count": null,
   "id": "d5e68064",
   "metadata": {},
   "outputs": [],
   "source": []
  }
 ],
 "metadata": {
  "kernelspec": {
   "display_name": "Python 3.9.1 64-bit",
   "language": "python",
   "name": "python3"
  },
  "language_info": {
   "codemirror_mode": {
    "name": "ipython",
    "version": 3
   },
   "file_extension": ".py",
   "mimetype": "text/x-python",
   "name": "python",
   "nbconvert_exporter": "python",
   "pygments_lexer": "ipython3",
   "version": "3.9.1"
  },
  "vscode": {
   "interpreter": {
    "hash": "aee8b7b246df8f9039afb4144a1f6fd8d2ca17a180786b69acc140d282b71a49"
   }
  }
 },
 "nbformat": 4,
 "nbformat_minor": 5
}
