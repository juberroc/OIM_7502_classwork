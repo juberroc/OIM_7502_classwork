{
 "cells": [
  {
   "cell_type": "code",
   "execution_count": null,
   "metadata": {},
   "outputs": [],
   "source": [
    "import datetime as dt\n",
    "import matplotlib.pyplot as plt\n",
    "import matplotlib.ticker as mtick # optional may be helpful for plotting percentage\n",
    "import numpy as np\n",
    "import pandas as pd\n",
    "import seaborn as sb # optional to set plot theme\n",
    "import yfinance as yf\n",
    "sb.set_theme() # optional to set plot theme\n",
    "\n",
    "DEFAULT_START = dt.date.isoformat(dt.date.today() - dt.timedelta(365))\n",
    "DEFAULT_END = dt.date.isoformat(dt.date.today())"
   ]
  },
  {
   "cell_type": "code",
   "execution_count": null,
   "metadata": {},
   "outputs": [],
   "source": [
    "class Stock:\n",
    "    def __init__(self, symbol, start=DEFAULT_START, end=DEFAULT_END):\n",
    "        self.symbol = symbol\n",
    "        self.start = start\n",
    "        self.end = end\n",
    "        self.data = self.get_data()\n",
    "\n",
    "\n",
    "    def get_data(self):\n",
    "        \"\"\"method that downloads data and stores in a DataFrame\n",
    "           uncomment the code below wich should be the final two lines \n",
    "           of your method\"\"\"\n",
    "            # self.calc_returns(data)\n",
    "        # return data\n",
    "        pass\n",
    "\n",
    "    \n",
    "    def calc_returns(self, df):\n",
    "        \"\"\"method that adds change and return columns to data\"\"\"\n",
    "        pass\n",
    "\n",
    "    \n",
    "    def plot_return_dist(self):\n",
    "        \"\"\"method that plots instantaneous returns as histogram\"\"\"\n",
    "        pass\n",
    "\n",
    "\n",
    "    def plot_performance(self):\n",
    "        \"\"\"method that plots stock object performance as percent \"\"\"\n",
    "        pass"
   ]
  },
  {
   "cell_type": "code",
   "execution_count": null,
   "metadata": {},
   "outputs": [],
   "source": [
    "def main():\n",
    "    # uncomment (remove pass) code below to test\n",
    "    # test = Stock(symbol=[stock_symbol]) # optionally test custom data range\n",
    "    # print(test.data)\n",
    "    # test.plot_performance()\n",
    "    # test.plot_return_dist()\n",
    "    pass\n",
    "\n",
    "if __name__ == '__main__':\n",
    "    main() "
   ]
  }
 ],
 "metadata": {
  "kernelspec": {
   "display_name": "Python 3.9.1 64-bit",
   "language": "python",
   "name": "python3"
  },
  "language_info": {
   "codemirror_mode": {
    "name": "ipython",
    "version": 3
   },
   "file_extension": ".py",
   "mimetype": "text/x-python",
   "name": "python",
   "nbconvert_exporter": "python",
   "pygments_lexer": "ipython3",
   "version": "3.9.1"
  },
  "orig_nbformat": 4,
  "vscode": {
   "interpreter": {
    "hash": "aee8b7b246df8f9039afb4144a1f6fd8d2ca17a180786b69acc140d282b71a49"
   }
  }
 },
 "nbformat": 4,
 "nbformat_minor": 2
}
